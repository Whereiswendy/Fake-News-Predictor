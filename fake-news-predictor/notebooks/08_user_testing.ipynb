{
 "cells": [
  {
   "cell_type": "markdown",
   "metadata": {},
   "source": [
    "# Import Libraries"
   ]
  },
  {
   "cell_type": "code",
   "execution_count": 2,
   "metadata": {},
   "outputs": [],
   "source": [
    "import pandas as pd\n",
    "import random\n"
   ]
  },
  {
   "cell_type": "markdown",
   "metadata": {},
   "source": [
    "# Load Dataset"
   ]
  },
  {
   "cell_type": "code",
   "execution_count": 10,
   "metadata": {},
   "outputs": [],
   "source": [
    "# Load dataset\n",
    "df = pd.read_csv('../data/raw/WELFake_Dataset.csv')"
   ]
  },
  {
   "cell_type": "markdown",
   "metadata": {},
   "source": [
    "# Find Random Instance of Fake News and Real News"
   ]
  },
  {
   "cell_type": "code",
   "execution_count": 11,
   "metadata": {},
   "outputs": [],
   "source": [
    "# Randomly sample one fake and one real news article\n",
    "random_fake_news = df[df['label'] == 0].sample(n=1).iloc[0]\n",
    "random_real_news = df[df['label'] == 1].sample(n=1).iloc[0]\n"
   ]
  },
  {
   "cell_type": "markdown",
   "metadata": {},
   "source": [
    "# Print the Title and Text of the Fake and True News Instances"
   ]
  },
  {
   "cell_type": "code",
   "execution_count": 12,
   "metadata": {},
   "outputs": [
    {
     "name": "stdout",
     "output_type": "stream",
     "text": [
      "\n",
      "Random Fake News Article:\n",
      "Title: \"Saudi mass arrests jolt markets but many see overdue swoop on corruption\"\n",
      "Text: \"RIYADH (Reuters) - All major Gulf stock markets slid on Tuesday on jitters about Saudi Arabia s sweeping anti-graft purge, a campaign seen by critics as a populist power grab but by ordinary Saudis as an overdue attack on the sleaze of a moneyed ultra-elite. U.S. President Donald Trump endorsed the crackdown, saying some of those arrested have been  milking  Saudi Arabia for years, but some Western officials expressed unease about the possible reaction in Riyadh s opaque tribal and royal politics. Authorities detained dozens of top Saudis including billionaire Prince Alwaleed bin Talal in a move widely seen as an attempt by Crown Prince Mohammed bin Salman to neuter any opposition to his lightening ascent to the pinnacle of power. Admirers see it as an assault on the endemic theft of public funds in the world s top oil exporter, an absolute monarchy where the state and the ruling family are intertwined.  Corruption should have been fought a long time ago, because it s corruption that delays society s development,  Riyadh resident Hussein al-Dosari told Reuters.  God willing, everything that happened ... is only the beginning of what is planned,  said Faisal bin Ali, adding he wanted to see  correcting mistakes, correcting ministries and correcting any injustices against the general population.  But some analysts see the arrests as the latest in a string of moves shifting power from a consensus-based system dispersing authority among the ruling Al Saud to a governing structure centered around 32-year-old Prince Mohammed himself. Investors worry that his campaign against corruption - involving the arrests of the kingdom s most internationally known businessmen - could see the ownership of businesses and assets become vulnerable to unpredictable policy shifts. Saudi banks have frozen more than 1,200 accounts belonging to individuals and companies in the kingdom and the number keeps rising, bankers and lawyers said. The authorities sought to reassure the business community late on Tuesday, with the central bank saying it was freezing suspects  personal bank accounts at the request of the attorney general but not suspending operations of their companies.  In other words, corporate businesses remain unaffected. It is business as usual for both banks and corporates,  the bank said in a statement, adding there were no restrictions on money transfers through proper banking channels. A separate statement said Prince Mohammed had directed a powerful ministerial committee, the Council for Economic Affairs and Development, to ensure that national and multinational companies, including those wholly or partly owned by individuals under investigation, were not disrupted.  The Council recognized the importance of these companies for the national economy, and the importance of ensuring that investors could operate with confidence in Saudi Arabia,  the state news agency SPA said. In Washington, Heather Nauert, spokeswoman for the U.S. State Department, said it had urged Saudi Arabia to undertake any prosecutions of corruption suspects in a  fair and transparent  manner. She said the United States had received assurances from the Saudi government that it would do so. But another U.S. official later told reporters she had misspoken and that they had no such assurances that they could discuss in public. The Saudi stock index .TASI sank 0.7 percent in heavy trade, led by shares in companies linked to people detained in the investigation.  The market, which was down 3.1 percent at one stage, would have finished much lower without apparent buying by government-linked funds seeking to prevent a panic, fund managers said. A mass pull-out of foreign funds was not apparent. Among the companies, Prince Alwaleed s Kingdom Holding 4280.SE plunged by its 10 percent daily limit, bringing its losses in the three days since the investigation was announced to 21 percent. The fall has wiped about $2 billion off his fortune, previously estimated by Forbes magazine at $17 billion. In Dubai, where Saudis have been significant investors, the index .DFMGI slipped 1.8 percent. The index in Abu Dhabi .ADI, less exposed to Saudi money, fell only 0.4 percent. But Kuwait continued to slide, its index .KWSE losing 2.8 percent.  The show of investor nerves coincided with sharply heightened strains between Riyadh and Tehran, reflected in a  fresh denunciation of adversary Iran by Prince Mohammed over its role in Yemen, and by continuing mutual acrimony over political turmoil in Lebanon, another cockpit of Iranian-Saudi rivalry. Displaying an apparently undimmed taste for navigating several challenges simultaneously, Prince Mohammed said Iran s supply of rockets to militias in Yemen is an act of  direct military aggression  that could be an act of war.  He was speaking in a phone call with the British foreign minister after Saudi forces intercepted a ballistic missile they said was fired toward Riyadh on Saturday by the Houthis. A Saudi-led coalition, which backs Yemen s internationally-recognized government, has been targeting the Houthis in a war which has killed more than 10,000 people and triggered a humanitarian disaster in one of the region s poorest countries. Iran has denied it was behind the missile launch, rejecting the Saudi and U.S. statements condemning Tehran as  destructive and provocative  and  slanders . The coincidence of heightened Saudi-Iranian tensions and Saudi domestic political upheaval has stirred unease among some Western governments and analysts about the emergence of an impromptu policy-making style under Prince Mohammed and turmoil in a region traditionally seen as a haven of stability.  He seems to be pushing the creation of a personalized system of rule without the checks and balances that have typically characterized the Saudi system of governance,  wrote Marc Lynch, professor of political science and international affairs at George Washington University, in the Washington Post.  In both domestic and foreign affairs, he has consistently undertaken sudden and wide-ranging campaigns for unclear reasons which shatter prevailing norms.   Among those held in the anti-graft purge was Prince Miteb bin Abdullah, who was replaced as minister of the National Guard, a pivotal power base rooted in the kingdom s tribes. That recalled a palace coup in June that ousted Mohammed bin Nayef, known as MbN, as heir to the throne. MbN made his first confirmed public appearance since then at the funeral for Prince Mansour bin Muqrin, deputy governor of Asir province, who was killed in a helicopter crash on Sunday. No cause has been given for the crash. A photo shared online by a state media photographer showed MbN greeting another royal at the first major family gathering since the anti-corruption sweep began. The crackdown removed any remaining political counterweights to the crown prince, according to Steffen Hertog, a Saudi scholar at the London School of Economics.  This allows for fast decision-making and reduces costly involvement of princes in state contracts, but also potentially reduces internal criticism and review of new policy initiatives,  he said. A former senior U.S. intelligence official cautioned that given the National Guard s loyalties, Prince Mohammed could face a backlash.  I find it difficult to believe that it (National Guard) will simply roll over and accept the imposition of new leadership in such an arbitrary fashion,  he said. But the purge may go some way to soothing public disgust over financial abuses by the powerful, some Saudis say.  There is no doubt that it (the detentions) soothes the anger of the regular citizen who felt that such names and senior leaders who appeared in the list were immune from legal accountability,  said Saudi-based political analyst Mansour al-Ameer.  Its spread to the general population is evidence that no one is excluded from legal accountability, and this will eventually benefit the citizen and (national) development.  \"\n",
      "\n",
      "Random Real News Article:\n",
      "Title: \"Between the State and the Private Sector: a Need for Associations?\"\n",
      "Text: \"Email \n",
      "This has been a debate garnering some attention in the UK for several years, mainly under the auspices of a contrast between “Red Tory” and “Blue Labour”. \n",
      "This debate, which has about the need for a mutualism countering the bureaucratic state and providing collective resources for private individuals abandoned to laissez faire, has not however been significant in the US. \n",
      "In the US, the function of the state is very much to aid and abet the oligarchy by blurring the line between the government and the private sector to the advantage of the latter, as opposed to being a check on it. US governments have therefore all but abandoned their role as the indispensable and major provider of essential welfare services. \n",
      "Even “Tricky Dicky” Nixon, knave that he was, went along with such relatively ample provision by the state. \n",
      "Today, however, American politicians, unless they are super-rich, can’t campaign effectively without monetary heft from a plutocratic private sector, to which they are then utterly beholden. Hillary Clinton anyone? \n",
      "American politicians who mount the slightest challenge to this rapaciously dysfunctional political system—George McGovern in days of yore, Denis Kucinich a few years ago, and now Sanders– are sent packing by its upholders. \n",
      "In the UK the Tories and New Labour have advanced on a similar neoliberal path since Thatcher, but encountered more resistance from voters, largely because its Celtic fringe adheres resolutely to the welfare state, and because there is still in the UK a solid bloc of voters to the left of the main parliamentary parties on several major issues (war, environmental protection, ringfencing the NHS, a commitment to public education, and the need for a fairer electoral system, being the most prominent). \n",
      "The postwar settlements after 1945 in the countries of the west depended on a broadly Keynesian concordat, mediated by the state, between labour and capital. \n",
      "In the 1970s this concordat fell into a crisis, and was dissolved by the governments of Reagan and Thatcher, whose names are often given to the succeeding neoliberal politico-economic paradigm. \n",
      "However, neoliberalism, with its emphasis on supposed market forces, has failed to deliver a general prosperity while exacerbating economic inequality, as well as promoting unstable bubble economies as the sole alternative to a widespread stagnation. \n",
      "In response to these failures of the social-welfare state (on the one hand) and a no-holds-barred neoliberal economic individualism (on the other), there has been a growth of interest in the UK in “mutualist” paradigms emphasizing cooperation, in self-governing and voluntary associations, on a scale smaller than the state but larger and more collective than that acceptable to a market-bedazzled or market-entrapped homo oeconomicus. \n",
      "These voluntary and self-governing associations will be non-profit making and funded out of the public purse. \n",
      "In the UK, the Blue Labour “tendency” (for it is no more than that in effective political terms) ratifies a form of mutualism, and in the US Bernie Sanders expressed interest in participatory political forms stressing mutualism, at least when he was still contending with Hillary Clinton for their party’s nomination to be a candidate for the 2016 presidential election. \n",
      "However, a state-driven social democracy of the kind prevailing until the 1970s will be difficult to revive because the state favoured by neoliberalism is a Market-State in root and branch, with market-imperatives– or rather those of quasi-markets, because neoliberal markets are rigged and rent-seeking (as Michael Hudson , Guy Standing , and others have pointed out) — dominating the State’s core. \n",
      "This neoliberal Market-State is more about entrenching the parasitic rentier-based oligarchy than promoting the fabled competitive markets extolled by classical liberalism. \n",
      "So, the key question for us is whether new forms of cooperation and mutualism, socialist in nature, can emerge in an innovative kind of post-neoliberal state, forms which can then exist in concert with crucially-important local and regional formations. \n",
      "Blue Labour’s proponents have identified a panoply of measures and steps as the way to inaugurate a full-blown associationism: co-operative ventures of all kinds, community banks and credit unions, community-sponsored daycare and eldercare, youth clubs, greatly augmented municipal government, proper apprenticeship schemes (as opposed to largely inconsequential “work your way in the hope you get a job” workfare arrangements), and so on. \n",
      "However, if neoliberalism remains, there will be no real move to a sufficient mutualism. So, decisive steps must be taken to push neoliberalism to the side. Blue Labour purports to be an alternative to neoliberalism, but does not endorse (at least not explicitly) the revolutionary means needed to supplant the neoliberal order. \n",
      "A mutualism which does not tackle the overridingly important issue of the ownership of assets, and fails to advance their common ownership, is going to be a paper tiger (to resort to the nomenclature of the Great Helmsman). \n",
      "Other interim measures will include an overturning of regnant macroeconomic policy, to encompass the greater taxation of wealth; the abolition of opportunities to extract rentier-based incomes (neoliberalism’s modus operandi); the repatriation of capital that has migrated to Wall Street and the City of London; the introduction of capital controls; the reduction of military spending; greater provision of resources on infrastructure, health, and education; converting banks into public utilities whose sole role is the intermediation between buyers and sellers (as opposed to the emphasis on gratuitously unproductive forms of speculation and arbitrage so prevalent today); supporting trade unions; placing important services conducing to our overall good in the public domain, which need not necessarily be statist, since the public domain will perforce now include a variety of formations that are associationist. \n",
      "Another significant step would be the disruption of the monetary symbiosis now existing between the corporate and political élites. \n",
      "Also important will be the reduction, and ultimately the elimination, of the for-profit sector when this does not operate for the public good. \n",
      "An example of how a project undertaken by a private company can easily be placed in the hands of a publicly-owned organization is the upcoming construction of London’s “super sewer” system. Balfour Beatty, the controversial giant construction company , has been awarded a £416m contract to build a section of this “super sewer” (and we can count on the almost inevitable cost overruns doubling and even tripling the sum stipulated in the original deal). \n",
      "BB is a private company with shareholders and private investors. A project on this scale could easily have been undertaken by a publicly-owned and controlled body, which would return earnings to the public purse, as opposed to feathering the nests of a small group of private citizens. \n",
      "Today colossally lucrative enterprises, making their originators some of the wealthiest people on earth, exist in a realm that can best be described as virtual. \n",
      "Uber owns no taxis, Airbnb owns no rental properties, EBay/Alibaba possess no inventory, Facebook generates no content of its own, TaskRabbit and Amazon’s Mechanical Turk (the latter’s motto being “giving you access to a scalable workforce”) create no sustainable jobs but use the internet to “match” individuals with substantial incomes needing someone to undertake menial tasks or run small errands, with a hapless “gig” clientele more or less willing to do this for chickenfeed. \n",
      "In addition, high-speed stock traders sit at desks transmuting algorithms into computer pixels to generate obscene rental returns (“profit” generally being used in classical economics only to characterize gains accruing from actual productive investment) in a few clicks of the keyboard. \n",
      "Dispensing with the stock-market racket will only require political will, admittedly not an easy undertaking since the political élites have also been allowed to feed at its trough. \n",
      "At the same time, the other virtual enterprises can be put to social uses: Uber can become a communal car-sharing service, Airbnb can serve the homeless, and TaskRabbit and Mechanical Turk can service the needs of a market providing substantial employment beyond the level of “gig” jobs. \n",
      "All citizens should have access to common basic entitlements, and associations will be publicly funded only if they are open to all and willing to provide services on the basis of public entitlements. \n",
      "The removal of neoliberalism, and ultimately capitalism itself, is going to be the surest way to bring about an extended and long-lasting mutualism and associationism. \n",
      "If neoliberalism and capitalism continue exist, we will be mired in an ethos based on the absurd proposition that we must first “create wealth”, then somehow find ways to prise the loot generated by this process out of the fingers of a fortunate few to “improve the quality of life” for the rest of us. \n",
      "Is there any greater idiocy, apart from the possible notion that the interests of the generality of the US and the world will be adequately served by a Trump or Clinton presidency? \n",
      "Kenneth Surin is Professor of Literature and Professor of Religion and Critical Theory Program in Literature and Critical Theory at Duke University.\"\n",
      "\n"
     ]
    }
   ],
   "source": [
    "# Format the output for easy copy-pasting\n",
    "output = f\"\"\"\n",
    "Random Fake News Article:\n",
    "Title: \"{random_fake_news['title']}\"\n",
    "Text: \"{random_fake_news['text']}\"\n",
    "\n",
    "Random Real News Article:\n",
    "Title: \"{random_real_news['title']}\"\n",
    "Text: \"{random_real_news['text']}\"\n",
    "\"\"\"\n",
    "\n",
    "# Print the formatted output\n",
    "print(output)"
   ]
  },
  {
   "cell_type": "code",
   "execution_count": null,
   "metadata": {},
   "outputs": [],
   "source": []
  }
 ],
 "metadata": {
  "kernelspec": {
   "display_name": "fake-news-predictor",
   "language": "python",
   "name": "python3"
  },
  "language_info": {
   "codemirror_mode": {
    "name": "ipython",
    "version": 3
   },
   "file_extension": ".py",
   "mimetype": "text/x-python",
   "name": "python",
   "nbconvert_exporter": "python",
   "pygments_lexer": "ipython3",
   "version": "3.10.14"
  }
 },
 "nbformat": 4,
 "nbformat_minor": 2
}
