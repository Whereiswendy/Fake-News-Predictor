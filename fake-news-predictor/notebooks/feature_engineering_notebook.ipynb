{
 "cells": [
  {
   "cell_type": "markdown",
   "metadata": {},
   "source": [
    "This notebook is intended to be run after the vectorisation notebook. In the previous step, we transformed the textual data into numerical vectors using the TF-IDF technique and saved the resulting matrix along with the processed DataFrame."
   ]
  },
  {
   "cell_type": "markdown",
   "metadata": {},
   "source": [
    "# Import necessary libraries"
   ]
  },
  {
   "cell_type": "code",
   "execution_count": 24,
   "metadata": {},
   "outputs": [],
   "source": [
    "import h5py\n",
    "import pandas as pd\n",
    "import numpy as np\n",
    "import os\n",
    "import matplotlib.pyplot as plt\n",
    "\n",
    "from sklearn.model_selection import train_test_split\n"
   ]
  },
  {
   "cell_type": "markdown",
   "metadata": {},
   "source": [
    "# Load the Data"
   ]
  },
  {
   "cell_type": "code",
   "execution_count": 15,
   "metadata": {},
   "outputs": [
    {
     "name": "stdout",
     "output_type": "stream",
     "text": [
      "Vectorised data loaded successfully.\n"
     ]
    }
   ],
   "source": [
    "# Load the TF-IDF matrix\n",
    "with h5py.File('../data/vectorised/tfidf_vectorised_data.h5', 'r') as f:\n",
    "    X_tfidf = f['X_tfidf'][:]\n",
    "\n",
    "# Load the DataFrame\n",
    "df = pd.read_hdf('../data/vectorised/vectorised_data_df.h5', key='df')\n",
    "\n",
    "print(\"Vectorised data loaded successfully.\")"
   ]
  },
  {
   "cell_type": "code",
   "execution_count": 5,
   "metadata": {},
   "outputs": [
    {
     "data": {
      "text/html": [
       "<div>\n",
       "<style scoped>\n",
       "    .dataframe tbody tr th:only-of-type {\n",
       "        vertical-align: middle;\n",
       "    }\n",
       "\n",
       "    .dataframe tbody tr th {\n",
       "        vertical-align: top;\n",
       "    }\n",
       "\n",
       "    .dataframe thead th {\n",
       "        text-align: right;\n",
       "    }\n",
       "</style>\n",
       "<table border=\"1\" class=\"dataframe\">\n",
       "  <thead>\n",
       "    <tr style=\"text-align: right;\">\n",
       "      <th></th>\n",
       "      <th>title</th>\n",
       "      <th>text</th>\n",
       "      <th>label</th>\n",
       "      <th>combined_text</th>\n",
       "      <th>cleaned_text</th>\n",
       "      <th>text_length</th>\n",
       "      <th>log_text_length</th>\n",
       "    </tr>\n",
       "  </thead>\n",
       "  <tbody>\n",
       "    <tr>\n",
       "      <th>0</th>\n",
       "      <td>LAW ENFORCEMENT ON HIGH ALERT Following Threat...</td>\n",
       "      <td>No comment is expected from Barack Obama Membe...</td>\n",
       "      <td>1</td>\n",
       "      <td>LAW ENFORCEMENT ON HIGH ALERT Following Threat...</td>\n",
       "      <td>law enforcement high alert following threats c...</td>\n",
       "      <td>3311</td>\n",
       "      <td>8.105308</td>\n",
       "    </tr>\n",
       "    <tr>\n",
       "      <th>1</th>\n",
       "      <td>No Title</td>\n",
       "      <td>Did they post their votes for Hillary already?</td>\n",
       "      <td>1</td>\n",
       "      <td>No Title Did they post their votes for Hillary...</td>\n",
       "      <td>title post vote hillary already</td>\n",
       "      <td>31</td>\n",
       "      <td>3.465736</td>\n",
       "    </tr>\n",
       "    <tr>\n",
       "      <th>2</th>\n",
       "      <td>UNBELIEVABLE! OBAMA’S ATTORNEY GENERAL SAYS MO...</td>\n",
       "      <td>Now, most of the demonstrators gathered last ...</td>\n",
       "      <td>1</td>\n",
       "      <td>UNBELIEVABLE! OBAMA’S ATTORNEY GENERAL SAYS MO...</td>\n",
       "      <td>unbelievable obamas attorney general says char...</td>\n",
       "      <td>277</td>\n",
       "      <td>5.627621</td>\n",
       "    </tr>\n",
       "    <tr>\n",
       "      <th>3</th>\n",
       "      <td>Bobby Jindal, raised Hindu, uses story of Chri...</td>\n",
       "      <td>A dozen politically active pastors came here f...</td>\n",
       "      <td>0</td>\n",
       "      <td>Bobby Jindal, raised Hindu, uses story of Chri...</td>\n",
       "      <td>bobby jindal raised hindu us story christian c...</td>\n",
       "      <td>5611</td>\n",
       "      <td>8.632662</td>\n",
       "    </tr>\n",
       "    <tr>\n",
       "      <th>4</th>\n",
       "      <td>SATAN 2: Russia unvelis an image of its terrif...</td>\n",
       "      <td>The RS-28 Sarmat missile, dubbed Satan 2, will...</td>\n",
       "      <td>1</td>\n",
       "      <td>SATAN 2: Russia unvelis an image of its terrif...</td>\n",
       "      <td>satan russia unvelis image terrifying new supe...</td>\n",
       "      <td>1388</td>\n",
       "      <td>7.236339</td>\n",
       "    </tr>\n",
       "  </tbody>\n",
       "</table>\n",
       "</div>"
      ],
      "text/plain": [
       "                                               title  \\\n",
       "0  LAW ENFORCEMENT ON HIGH ALERT Following Threat...   \n",
       "1                                           No Title   \n",
       "2  UNBELIEVABLE! OBAMA’S ATTORNEY GENERAL SAYS MO...   \n",
       "3  Bobby Jindal, raised Hindu, uses story of Chri...   \n",
       "4  SATAN 2: Russia unvelis an image of its terrif...   \n",
       "\n",
       "                                                text  label  \\\n",
       "0  No comment is expected from Barack Obama Membe...      1   \n",
       "1     Did they post their votes for Hillary already?      1   \n",
       "2   Now, most of the demonstrators gathered last ...      1   \n",
       "3  A dozen politically active pastors came here f...      0   \n",
       "4  The RS-28 Sarmat missile, dubbed Satan 2, will...      1   \n",
       "\n",
       "                                       combined_text  \\\n",
       "0  LAW ENFORCEMENT ON HIGH ALERT Following Threat...   \n",
       "1  No Title Did they post their votes for Hillary...   \n",
       "2  UNBELIEVABLE! OBAMA’S ATTORNEY GENERAL SAYS MO...   \n",
       "3  Bobby Jindal, raised Hindu, uses story of Chri...   \n",
       "4  SATAN 2: Russia unvelis an image of its terrif...   \n",
       "\n",
       "                                        cleaned_text  text_length  \\\n",
       "0  law enforcement high alert following threats c...         3311   \n",
       "1                    title post vote hillary already           31   \n",
       "2  unbelievable obamas attorney general says char...          277   \n",
       "3  bobby jindal raised hindu us story christian c...         5611   \n",
       "4  satan russia unvelis image terrifying new supe...         1388   \n",
       "\n",
       "   log_text_length  \n",
       "0         8.105308  \n",
       "1         3.465736  \n",
       "2         5.627621  \n",
       "3         8.632662  \n",
       "4         7.236339  "
      ]
     },
     "execution_count": 5,
     "metadata": {},
     "output_type": "execute_result"
    }
   ],
   "source": [
    "df.head()"
   ]
  },
  {
   "cell_type": "code",
   "execution_count": 16,
   "metadata": {},
   "outputs": [
    {
     "name": "stdout",
     "output_type": "stream",
     "text": [
      "[[0. 0. 0. ... 0. 0. 0.]\n",
      " [0. 0. 0. ... 0. 0. 0.]\n",
      " [0. 0. 0. ... 0. 0. 0.]\n",
      " ...\n",
      " [0. 0. 0. ... 0. 0. 0.]\n",
      " [0. 0. 0. ... 0. 0. 0.]\n",
      " [0. 0. 0. ... 0. 0. 0.]]\n",
      "====================================\n",
      "(72095, 24016)\n"
     ]
    }
   ],
   "source": [
    "print(X_tfidf)\n",
    "print(\"====================================\")\n",
    "print(X_tfidf.shape)"
   ]
  },
  {
   "cell_type": "code",
   "execution_count": 17,
   "metadata": {},
   "outputs": [
    {
     "data": {
      "text/html": [
       "<div>\n",
       "<style scoped>\n",
       "    .dataframe tbody tr th:only-of-type {\n",
       "        vertical-align: middle;\n",
       "    }\n",
       "\n",
       "    .dataframe tbody tr th {\n",
       "        vertical-align: top;\n",
       "    }\n",
       "\n",
       "    .dataframe thead th {\n",
       "        text-align: right;\n",
       "    }\n",
       "</style>\n",
       "<table border=\"1\" class=\"dataframe\">\n",
       "  <thead>\n",
       "    <tr style=\"text-align: right;\">\n",
       "      <th></th>\n",
       "      <th>title</th>\n",
       "      <th>text</th>\n",
       "      <th>label</th>\n",
       "      <th>combined_text</th>\n",
       "      <th>cleaned_text</th>\n",
       "      <th>text_length</th>\n",
       "      <th>log_text_length</th>\n",
       "    </tr>\n",
       "  </thead>\n",
       "  <tbody>\n",
       "    <tr>\n",
       "      <th>0</th>\n",
       "      <td>LAW ENFORCEMENT ON HIGH ALERT Following Threat...</td>\n",
       "      <td>No comment is expected from Barack Obama Membe...</td>\n",
       "      <td>1</td>\n",
       "      <td>LAW ENFORCEMENT ON HIGH ALERT Following Threat...</td>\n",
       "      <td>law enforcement high alert following threats c...</td>\n",
       "      <td>3311</td>\n",
       "      <td>8.105308</td>\n",
       "    </tr>\n",
       "    <tr>\n",
       "      <th>1</th>\n",
       "      <td>No Title</td>\n",
       "      <td>Did they post their votes for Hillary already?</td>\n",
       "      <td>1</td>\n",
       "      <td>No Title Did they post their votes for Hillary...</td>\n",
       "      <td>title post vote hillary already</td>\n",
       "      <td>31</td>\n",
       "      <td>3.465736</td>\n",
       "    </tr>\n",
       "    <tr>\n",
       "      <th>2</th>\n",
       "      <td>UNBELIEVABLE! OBAMA’S ATTORNEY GENERAL SAYS MO...</td>\n",
       "      <td>Now, most of the demonstrators gathered last ...</td>\n",
       "      <td>1</td>\n",
       "      <td>UNBELIEVABLE! OBAMA’S ATTORNEY GENERAL SAYS MO...</td>\n",
       "      <td>unbelievable obamas attorney general says char...</td>\n",
       "      <td>277</td>\n",
       "      <td>5.627621</td>\n",
       "    </tr>\n",
       "    <tr>\n",
       "      <th>3</th>\n",
       "      <td>Bobby Jindal, raised Hindu, uses story of Chri...</td>\n",
       "      <td>A dozen politically active pastors came here f...</td>\n",
       "      <td>0</td>\n",
       "      <td>Bobby Jindal, raised Hindu, uses story of Chri...</td>\n",
       "      <td>bobby jindal raised hindu us story christian c...</td>\n",
       "      <td>5611</td>\n",
       "      <td>8.632662</td>\n",
       "    </tr>\n",
       "    <tr>\n",
       "      <th>4</th>\n",
       "      <td>SATAN 2: Russia unvelis an image of its terrif...</td>\n",
       "      <td>The RS-28 Sarmat missile, dubbed Satan 2, will...</td>\n",
       "      <td>1</td>\n",
       "      <td>SATAN 2: Russia unvelis an image of its terrif...</td>\n",
       "      <td>satan russia unvelis image terrifying new supe...</td>\n",
       "      <td>1388</td>\n",
       "      <td>7.236339</td>\n",
       "    </tr>\n",
       "  </tbody>\n",
       "</table>\n",
       "</div>"
      ],
      "text/plain": [
       "                                               title  \\\n",
       "0  LAW ENFORCEMENT ON HIGH ALERT Following Threat...   \n",
       "1                                           No Title   \n",
       "2  UNBELIEVABLE! OBAMA’S ATTORNEY GENERAL SAYS MO...   \n",
       "3  Bobby Jindal, raised Hindu, uses story of Chri...   \n",
       "4  SATAN 2: Russia unvelis an image of its terrif...   \n",
       "\n",
       "                                                text  label  \\\n",
       "0  No comment is expected from Barack Obama Membe...      1   \n",
       "1     Did they post their votes for Hillary already?      1   \n",
       "2   Now, most of the demonstrators gathered last ...      1   \n",
       "3  A dozen politically active pastors came here f...      0   \n",
       "4  The RS-28 Sarmat missile, dubbed Satan 2, will...      1   \n",
       "\n",
       "                                       combined_text  \\\n",
       "0  LAW ENFORCEMENT ON HIGH ALERT Following Threat...   \n",
       "1  No Title Did they post their votes for Hillary...   \n",
       "2  UNBELIEVABLE! OBAMA’S ATTORNEY GENERAL SAYS MO...   \n",
       "3  Bobby Jindal, raised Hindu, uses story of Chri...   \n",
       "4  SATAN 2: Russia unvelis an image of its terrif...   \n",
       "\n",
       "                                        cleaned_text  text_length  \\\n",
       "0  law enforcement high alert following threats c...         3311   \n",
       "1                    title post vote hillary already           31   \n",
       "2  unbelievable obamas attorney general says char...          277   \n",
       "3  bobby jindal raised hindu us story christian c...         5611   \n",
       "4  satan russia unvelis image terrifying new supe...         1388   \n",
       "\n",
       "   log_text_length  \n",
       "0         8.105308  \n",
       "1         3.465736  \n",
       "2         5.627621  \n",
       "3         8.632662  \n",
       "4         7.236339  "
      ]
     },
     "execution_count": 17,
     "metadata": {},
     "output_type": "execute_result"
    }
   ],
   "source": [
    "# Display the first few rows to verify the new features\n",
    "df.head()\n"
   ]
  },
  {
   "cell_type": "markdown",
   "metadata": {},
   "source": [
    "# Combining the Vectors"
   ]
  },
  {
   "cell_type": "code",
   "execution_count": 18,
   "metadata": {},
   "outputs": [
    {
     "name": "stdout",
     "output_type": "stream",
     "text": [
      "Combined feature matrix shape: (72095, 24017)\n"
     ]
    }
   ],
   "source": [
    "# Combine TF-IDF Vectors with the New Features\n",
    "\n",
    "# Convert the DataFrame of new features to a NumPy array\n",
    "additional_features = df[['log_text_length']].values  # Add other feature columns as needed\n",
    "\n",
    "# Combine the TF-IDF matrix with the new features\n",
    "import numpy as np\n",
    "X_combined = np.hstack([X_tfidf, additional_features])\n",
    "\n",
    "print(f\"Combined feature matrix shape: {X_combined.shape}\")"
   ]
  },
  {
   "cell_type": "markdown",
   "metadata": {},
   "source": [
    "# Inspecting the Combined Matrix"
   ]
  },
  {
   "cell_type": "code",
   "execution_count": 19,
   "metadata": {},
   "outputs": [
    {
     "name": "stdout",
     "output_type": "stream",
     "text": [
      "First row of the combined feature matrix:\n",
      " [0.         0.         0.         ... 0.         0.         8.10530752]\n",
      "Last few columns of the first row (should include log_text_length):\n",
      " [0.         0.         0.         0.         8.10530752]\n"
     ]
    }
   ],
   "source": [
    "# Print the first row to inspect the values\n",
    "print(\"First row of the combined feature matrix:\\n\", X_combined[0])\n",
    "\n",
    "# Check the last few columns (where additional features are likely to be)\n",
    "print(\"Last few columns of the first row (should include log_text_length):\\n\", X_combined[0, -5:])"
   ]
  },
  {
   "cell_type": "code",
   "execution_count": 20,
   "metadata": {},
   "outputs": [
    {
     "name": "stdout",
     "output_type": "stream",
     "text": [
      "log_text_length values (from the combined matrix):\n",
      " [8.10530752 3.4657359  5.62762111 8.63266244 7.23633934]\n",
      "log_text_length values (from the DataFrame):\n",
      " 0    8.105308\n",
      "1    3.465736\n",
      "2    5.627621\n",
      "3    8.632662\n",
      "4    7.236339\n",
      "Name: log_text_length, dtype: float64\n"
     ]
    }
   ],
   "source": [
    "# Print the last column of the first few rows to verify the `log_text_length` values\n",
    "print(\"log_text_length values (from the combined matrix):\\n\", X_combined[:5, -1])\n",
    "\n",
    "# Print the original `log_text_length` values from the DataFrame for comparison\n",
    "print(\"log_text_length values (from the DataFrame):\\n\", df['log_text_length'].head())\n"
   ]
  },
  {
   "cell_type": "code",
   "execution_count": 23,
   "metadata": {},
   "outputs": [
    {
     "data": {
      "image/png": "[encoded data removed]",
      "text/plain": [
       "<Figure size 640x480 with 1 Axes>"
      ]
     },
     "metadata": {},
     "output_type": "display_data"
    }
   ],
   "source": [
    "# Compare distributions\n",
    "# Extract the log_text_length from the combined matrix\n",
    "log_text_length_combined = X_combined[:, -1]\n",
    "\n",
    "plt.hist(log_text_length_combined, bins=50, alpha=0.5, label='Combined Matrix')\n",
    "plt.hist(df['log_text_length'], bins=50, alpha=0.5, label='Original DataFrame')\n",
    "plt.legend()\n",
    "plt.title('Comparison of log_text_length Distributions')\n",
    "plt.show()\n"
   ]
  },
  {
   "cell_type": "markdown",
   "metadata": {},
   "source": [
    "# Data Splitting"
   ]
  },
  {
   "cell_type": "code",
   "execution_count": 25,
   "metadata": {},
   "outputs": [
    {
     "name": "stdout",
     "output_type": "stream",
     "text": [
      "Training set shape: (57676, 24017)\n",
      "Testing set shape: (14419, 24017)\n"
     ]
    }
   ],
   "source": [
    "y = df['label'].values\n",
    "\n",
    "# Split the data\n",
    "X_train, X_test, y_train, y_test = train_test_split(X_combined, y, test_size=0.2, random_state=42)\n",
    "\n",
    "print(f\"Training set shape: {X_train.shape}\")\n",
    "print(f\"Testing set shape: {X_test.shape}\")"
   ]
  },
  {
   "cell_type": "code",
   "execution_count": 26,
   "metadata": {},
   "outputs": [
    {
     "name": "stdout",
     "output_type": "stream",
     "text": [
      "Training and testing sets saved successfully.\n"
     ]
    }
   ],
   "source": [
    "# Create the directory if it doesn't exist\n",
    "os.makedirs('../data/splits', exist_ok=True)\n",
    "\n",
    "# Save the split datasets\n",
    "with h5py.File('../data/splits/train_test_split.h5', 'w') as f:\n",
    "    f.create_dataset('X_train', data=X_train)\n",
    "    f.create_dataset('X_test', data=X_test)\n",
    "    f.create_dataset('y_train', data=y_train)\n",
    "    f.create_dataset('y_test', data=y_test)\n",
    "\n",
    "print(\"Training and testing sets saved successfully.\")"
   ]
  },
  {
   "cell_type": "code",
   "execution_count": null,
   "metadata": {},
   "outputs": [],
   "source": []
  }
 ],
 "metadata": {
  "kernelspec": {
   "display_name": "fake-news-predictor",
   "language": "python",
   "name": "python3"
  },
  "language_info": {
   "codemirror_mode": {
    "name": "ipython",
    "version": 3
   },
   "file_extension": ".py",
   "mimetype": "text/x-python",
   "name": "python",
   "nbconvert_exporter": "python",
   "pygments_lexer": "ipython3",
   "version": "3.10.14"
  }
 },
 "nbformat": 4,
 "nbformat_minor": 2
}
