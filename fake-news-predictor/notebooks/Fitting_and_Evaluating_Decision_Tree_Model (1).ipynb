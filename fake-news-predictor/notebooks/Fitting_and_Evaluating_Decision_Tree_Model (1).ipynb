{
  "nbformat": 4,
  "nbformat_minor": 0,
  "metadata": {
    "colab": {
      "provenance": []
    },
    "kernelspec": {
      "name": "python3",
      "display_name": "Python 3"
    },
    "language_info": {
      "name": "python"
    }
  },
  "cells": [
    {
      "cell_type": "markdown",
      "source": [
        "Fitting a decision tree machine learning model involves once the data has been preprocessed."
      ],
      "metadata": {
        "id": "XagUFaMRUWRO"
      }
    },
    {
      "cell_type": "code",
      "source": [
        "# Import necessary libraries\n",
        "import pandas as pd\n",
        "from sklearn.model_selection import train_test_split, cross_val_score\n",
        "from sklearn.tree import DecisionTreeClassifier, DecisionTreeRegressor\n",
        "from sklearn.metrics import accuracy_score, classification_report, mean_squared_error, r2_score\n",
        "from sklearn import tree\n",
        "import matplotlib.pyplot as plt\n",
        "import h5py\n",
        "from sklearn.model_selection import cross_val_score\n",
        "import joblib\n",
        "import json\n"
      ],
      "metadata": {
        "id": "QhlJi9B-UbYr"
      },
      "execution_count": null,
      "outputs": []
    },
    {
      "cell_type": "code",
      "source": [
        "# Load the training and testing datasets\n",
        "with h5py.File('../data/splits/train_test_split.h5', 'r') as f:\n",
        "    X_train = f['X_train'][:]\n",
        "    X_test = f['X_test'][:]\n",
        "    y_train = f['y_train'][:]\n",
        "    y_test = f['y_test'][:]\n",
        "\n",
        "print(\"Training and testing sets loaded successfully.\")"
      ],
      "metadata": {
        "id": "sFJ5Eh_BVBqw"
      },
      "execution_count": null,
      "outputs": []
    },
    {
      "cell_type": "code",
      "source": [
        "# Model Decision Tree, classification\n",
        "model = DecisionTreeClassifier()"
      ],
      "metadata": {
        "id": "PAll4gSVXZm_"
      },
      "execution_count": null,
      "outputs": []
    },
    {
      "cell_type": "code",
      "source": [
        "# Setting hyperparameters\n",
        "params = {\n",
        "    'max_depth': 5,  # limit the depth of the tree\n",
        "    'min_samples_split': 10,  # min samples required to split an internal node\n",
        "    'min_samples_leaf': 5,  # min samples required to be at a leaf node\n",
        "    'criterion': 'gini'  # for classification, use 'mse' for regression\n",
        "}\n",
        "\n",
        "model.set_params(**params)"
      ],
      "metadata": {
        "id": "UqC993ttXilh"
      },
      "execution_count": null,
      "outputs": []
    },
    {
      "cell_type": "code",
      "source": [
        "# Train the Model\n",
        "model.fit(X_train, y_train)"
      ],
      "metadata": {
        "id": "Yy8zjP9bYUv3"
      },
      "execution_count": null,
      "outputs": []
    },
    {
      "cell_type": "code",
      "source": [
        "# Evaluate the Model\n",
        "y_pred = model.predict(X_test)"
      ],
      "metadata": {
        "id": "D2JOpukjYYKP"
      },
      "execution_count": null,
      "outputs": []
    },
    {
      "cell_type": "code",
      "source": [
        "# For classification\n",
        "accuracy = accuracy_score(y_test, y_pred)\n",
        "print(\"Accuracy:\", accuracy)\n",
        "print(\"Classification Report:\\n\", classification_report(y_test, y_pred))"
      ],
      "metadata": {
        "id": "OwJ11KDvYcvl"
      },
      "execution_count": null,
      "outputs": []
    },
    {
      "cell_type": "code",
      "source": [],
      "metadata": {
        "id": "qOmOyKNoYgLf"
      },
      "execution_count": null,
      "outputs": []
    }
  ]
}