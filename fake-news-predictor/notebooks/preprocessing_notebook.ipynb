{
 "cells": [
  {
   "cell_type": "markdown",
   "metadata": {},
   "source": [
    "# Import Libraries"
   ]
  },
  {
   "cell_type": "code",
   "execution_count": 23,
   "metadata": {},
   "outputs": [
    {
     "name": "stdout",
     "output_type": "stream",
     "text": [
      "running\n"
     ]
    },
    {
     "name": "stderr",
     "output_type": "stream",
     "text": [
      "[nltk_data] Downloading package stopwords to\n",
      "[nltk_data]     C:\\Users\\wware\\AppData\\Roaming\\nltk_data...\n",
      "[nltk_data]   Package stopwords is already up-to-date!\n",
      "[nltk_data] Downloading package wordnet to\n",
      "[nltk_data]     C:\\Users\\wware\\AppData\\Roaming\\nltk_data...\n",
      "[nltk_data]   Package wordnet is already up-to-date!\n",
      "[nltk_data] Downloading package omw-1.4 to\n",
      "[nltk_data]     C:\\Users\\wware\\AppData\\Roaming\\nltk_data...\n",
      "[nltk_data]   Package omw-1.4 is already up-to-date!\n"
     ]
    }
   ],
   "source": [
    "import pandas as pd\n",
    "import numpy as np\n",
    "import seaborn as sns\n",
    "import matplotlib.pyplot as plt\n",
    "import re\n",
    "import nltk\n",
    "import h5py\n",
    "import os\n",
    "import pickle\n",
    "from nltk.corpus import stopwords\n",
    "from nltk.stem import WordNetLemmatizer\n",
    "from tensorflow.keras.preprocessing.text import Tokenizer\n",
    "from tensorflow.keras.preprocessing.sequence import pad_sequences\n",
    "from wordcloud import WordCloud\n",
    "from collections import Counter\n",
    "\n",
    "# Download the stopwords dataset\n",
    "nltk.download('stopwords')\n",
    "\n",
    "# Download required resources\n",
    "nltk.download('wordnet')\n",
    "nltk.download('omw-1.4')\n",
    "\n",
    "# Initialize the lemmatizer\n",
    "lemmatizer = WordNetLemmatizer()\n",
    "\n",
    "# Test the lemmatizer with a simple example\n",
    "print(lemmatizer.lemmatize('running'))  # Should output 'run'\n"
   ]
  },
  {
   "cell_type": "markdown",
   "metadata": {},
   "source": [
    "# Load Dataset"
   ]
  },
  {
   "cell_type": "code",
   "execution_count": 26,
   "metadata": {},
   "outputs": [
    {
     "data": {
      "text/html": [
       "<div>\n",
       "<style scoped>\n",
       "    .dataframe tbody tr th:only-of-type {\n",
       "        vertical-align: middle;\n",
       "    }\n",
       "\n",
       "    .dataframe tbody tr th {\n",
       "        vertical-align: top;\n",
       "    }\n",
       "\n",
       "    .dataframe thead th {\n",
       "        text-align: right;\n",
       "    }\n",
       "</style>\n",
       "<table border=\"1\" class=\"dataframe\">\n",
       "  <thead>\n",
       "    <tr style=\"text-align: right;\">\n",
       "      <th></th>\n",
       "      <th>Unnamed: 0</th>\n",
       "      <th>title</th>\n",
       "      <th>text</th>\n",
       "      <th>label</th>\n",
       "    </tr>\n",
       "  </thead>\n",
       "  <tbody>\n",
       "    <tr>\n",
       "      <th>0</th>\n",
       "      <td>0</td>\n",
       "      <td>LAW ENFORCEMENT ON HIGH ALERT Following Threat...</td>\n",
       "      <td>No comment is expected from Barack Obama Membe...</td>\n",
       "      <td>1</td>\n",
       "    </tr>\n",
       "    <tr>\n",
       "      <th>1</th>\n",
       "      <td>1</td>\n",
       "      <td>NaN</td>\n",
       "      <td>Did they post their votes for Hillary already?</td>\n",
       "      <td>1</td>\n",
       "    </tr>\n",
       "    <tr>\n",
       "      <th>2</th>\n",
       "      <td>2</td>\n",
       "      <td>UNBELIEVABLE! OBAMA’S ATTORNEY GENERAL SAYS MO...</td>\n",
       "      <td>Now, most of the demonstrators gathered last ...</td>\n",
       "      <td>1</td>\n",
       "    </tr>\n",
       "    <tr>\n",
       "      <th>3</th>\n",
       "      <td>3</td>\n",
       "      <td>Bobby Jindal, raised Hindu, uses story of Chri...</td>\n",
       "      <td>A dozen politically active pastors came here f...</td>\n",
       "      <td>0</td>\n",
       "    </tr>\n",
       "    <tr>\n",
       "      <th>4</th>\n",
       "      <td>4</td>\n",
       "      <td>SATAN 2: Russia unvelis an image of its terrif...</td>\n",
       "      <td>The RS-28 Sarmat missile, dubbed Satan 2, will...</td>\n",
       "      <td>1</td>\n",
       "    </tr>\n",
       "  </tbody>\n",
       "</table>\n",
       "</div>"
      ],
      "text/plain": [
       "   Unnamed: 0                                              title  \\\n",
       "0           0  LAW ENFORCEMENT ON HIGH ALERT Following Threat...   \n",
       "1           1                                                NaN   \n",
       "2           2  UNBELIEVABLE! OBAMA’S ATTORNEY GENERAL SAYS MO...   \n",
       "3           3  Bobby Jindal, raised Hindu, uses story of Chri...   \n",
       "4           4  SATAN 2: Russia unvelis an image of its terrif...   \n",
       "\n",
       "                                                text  label  \n",
       "0  No comment is expected from Barack Obama Membe...      1  \n",
       "1     Did they post their votes for Hillary already?      1  \n",
       "2   Now, most of the demonstrators gathered last ...      1  \n",
       "3  A dozen politically active pastors came here f...      0  \n",
       "4  The RS-28 Sarmat missile, dubbed Satan 2, will...      1  "
      ]
     },
     "execution_count": 26,
     "metadata": {},
     "output_type": "execute_result"
    }
   ],
   "source": [
    "# Load dataset\n",
    "df = pd.read_csv('../data/raw/WELFake_Dataset.csv')\n",
    "\n",
    "# Display the first few rows\n",
    "df.head()\n"
   ]
  },
  {
   "cell_type": "markdown",
   "metadata": {},
   "source": [
    "The dataset contains the following columns:\n",
    "\n",
    "- **Serial number**: An integer identifier for each news article (starting from 0).\n",
    "- **Title**: The title or headline of the news article.\n",
    "- **Text**: The main content of the news article.\n",
    "- **Label**: Indicates whether the article is real or fake:\n",
    "  - `0`: Fake news\n",
    "  - `1`: Real news\n",
    "\n",
    "The dataset provides a robust foundation for training and evaluating machine learning models aimed at detecting fake news. The labels are balanced with a nearly equal number of real and fake news articles, making it suitable for binary classification tasks.\n",
    "\n",
    "**Source**\n",
    "\n",
    "The dataset was published in the following paper:\n",
    "\n",
    "- **IEEE Transactions on Computational Social Systems**: pp. 1-13 (doi: [10.1109/TCSS.2021.3068519](https://doi.org/10.1109/TCSS.2021.3068519)).\n",
    "\n",
    "You can access the dataset on Kaggle via this [link](https://www.kaggle.com/datasets/saurabhshahane/fake-news-classification)."
   ]
  },
  {
   "cell_type": "markdown",
   "metadata": {},
   "source": [
    "# Drop Unnecessary Columns"
   ]
  },
  {
   "cell_type": "code",
   "execution_count": 4,
   "metadata": {},
   "outputs": [
    {
     "data": {
      "text/html": [
       "<div>\n",
       "<style scoped>\n",
       "    .dataframe tbody tr th:only-of-type {\n",
       "        vertical-align: middle;\n",
       "    }\n",
       "\n",
       "    .dataframe tbody tr th {\n",
       "        vertical-align: top;\n",
       "    }\n",
       "\n",
       "    .dataframe thead th {\n",
       "        text-align: right;\n",
       "    }\n",
       "</style>\n",
       "<table border=\"1\" class=\"dataframe\">\n",
       "  <thead>\n",
       "    <tr style=\"text-align: right;\">\n",
       "      <th></th>\n",
       "      <th>title</th>\n",
       "      <th>text</th>\n",
       "      <th>label</th>\n",
       "    </tr>\n",
       "  </thead>\n",
       "  <tbody>\n",
       "    <tr>\n",
       "      <th>0</th>\n",
       "      <td>LAW ENFORCEMENT ON HIGH ALERT Following Threat...</td>\n",
       "      <td>No comment is expected from Barack Obama Membe...</td>\n",
       "      <td>1</td>\n",
       "    </tr>\n",
       "    <tr>\n",
       "      <th>1</th>\n",
       "      <td>NaN</td>\n",
       "      <td>Did they post their votes for Hillary already?</td>\n",
       "      <td>1</td>\n",
       "    </tr>\n",
       "    <tr>\n",
       "      <th>2</th>\n",
       "      <td>UNBELIEVABLE! OBAMA’S ATTORNEY GENERAL SAYS MO...</td>\n",
       "      <td>Now, most of the demonstrators gathered last ...</td>\n",
       "      <td>1</td>\n",
       "    </tr>\n",
       "    <tr>\n",
       "      <th>3</th>\n",
       "      <td>Bobby Jindal, raised Hindu, uses story of Chri...</td>\n",
       "      <td>A dozen politically active pastors came here f...</td>\n",
       "      <td>0</td>\n",
       "    </tr>\n",
       "    <tr>\n",
       "      <th>4</th>\n",
       "      <td>SATAN 2: Russia unvelis an image of its terrif...</td>\n",
       "      <td>The RS-28 Sarmat missile, dubbed Satan 2, will...</td>\n",
       "      <td>1</td>\n",
       "    </tr>\n",
       "  </tbody>\n",
       "</table>\n",
       "</div>"
      ],
      "text/plain": [
       "                                               title  \\\n",
       "0  LAW ENFORCEMENT ON HIGH ALERT Following Threat...   \n",
       "1                                                NaN   \n",
       "2  UNBELIEVABLE! OBAMA’S ATTORNEY GENERAL SAYS MO...   \n",
       "3  Bobby Jindal, raised Hindu, uses story of Chri...   \n",
       "4  SATAN 2: Russia unvelis an image of its terrif...   \n",
       "\n",
       "                                                text  label  \n",
       "0  No comment is expected from Barack Obama Membe...      1  \n",
       "1     Did they post their votes for Hillary already?      1  \n",
       "2   Now, most of the demonstrators gathered last ...      1  \n",
       "3  A dozen politically active pastors came here f...      0  \n",
       "4  The RS-28 Sarmat missile, dubbed Satan 2, will...      1  "
      ]
     },
     "execution_count": 4,
     "metadata": {},
     "output_type": "execute_result"
    }
   ],
   "source": [
    "# Drop the 'Unnamed: 0' column\n",
    "df.drop(columns=['Unnamed: 0'], inplace=True)\n",
    "\n",
    "# Display the first few rows\n",
    "df.head()"
   ]
  },
  {
   "cell_type": "markdown",
   "metadata": {},
   "source": [
    "# Handling Missing Values"
   ]
  },
  {
   "cell_type": "code",
   "execution_count": 5,
   "metadata": {},
   "outputs": [
    {
     "name": "stdout",
     "output_type": "stream",
     "text": [
      "title    558\n",
      "text      39\n",
      "label      0\n",
      "dtype: int64\n"
     ]
    }
   ],
   "source": [
    "# Check for missing values in each column\n",
    "missing_values = df.isnull().sum()\n",
    "print(missing_values)\n"
   ]
  },
  {
   "cell_type": "code",
   "execution_count": 6,
   "metadata": {},
   "outputs": [
    {
     "data": {
      "text/html": [
       "<div>\n",
       "<style scoped>\n",
       "    .dataframe tbody tr th:only-of-type {\n",
       "        vertical-align: middle;\n",
       "    }\n",
       "\n",
       "    .dataframe tbody tr th {\n",
       "        vertical-align: top;\n",
       "    }\n",
       "\n",
       "    .dataframe thead th {\n",
       "        text-align: right;\n",
       "    }\n",
       "</style>\n",
       "<table border=\"1\" class=\"dataframe\">\n",
       "  <thead>\n",
       "    <tr style=\"text-align: right;\">\n",
       "      <th></th>\n",
       "      <th>title</th>\n",
       "      <th>text</th>\n",
       "      <th>label</th>\n",
       "    </tr>\n",
       "  </thead>\n",
       "  <tbody>\n",
       "    <tr>\n",
       "      <th>0</th>\n",
       "      <td>LAW ENFORCEMENT ON HIGH ALERT Following Threat...</td>\n",
       "      <td>No comment is expected from Barack Obama Membe...</td>\n",
       "      <td>1</td>\n",
       "    </tr>\n",
       "    <tr>\n",
       "      <th>1</th>\n",
       "      <td>NaN</td>\n",
       "      <td>Did they post their votes for Hillary already?</td>\n",
       "      <td>1</td>\n",
       "    </tr>\n",
       "    <tr>\n",
       "      <th>2</th>\n",
       "      <td>UNBELIEVABLE! OBAMA’S ATTORNEY GENERAL SAYS MO...</td>\n",
       "      <td>Now, most of the demonstrators gathered last ...</td>\n",
       "      <td>1</td>\n",
       "    </tr>\n",
       "    <tr>\n",
       "      <th>3</th>\n",
       "      <td>Bobby Jindal, raised Hindu, uses story of Chri...</td>\n",
       "      <td>A dozen politically active pastors came here f...</td>\n",
       "      <td>0</td>\n",
       "    </tr>\n",
       "    <tr>\n",
       "      <th>4</th>\n",
       "      <td>SATAN 2: Russia unvelis an image of its terrif...</td>\n",
       "      <td>The RS-28 Sarmat missile, dubbed Satan 2, will...</td>\n",
       "      <td>1</td>\n",
       "    </tr>\n",
       "  </tbody>\n",
       "</table>\n",
       "</div>"
      ],
      "text/plain": [
       "                                               title  \\\n",
       "0  LAW ENFORCEMENT ON HIGH ALERT Following Threat...   \n",
       "1                                                NaN   \n",
       "2  UNBELIEVABLE! OBAMA’S ATTORNEY GENERAL SAYS MO...   \n",
       "3  Bobby Jindal, raised Hindu, uses story of Chri...   \n",
       "4  SATAN 2: Russia unvelis an image of its terrif...   \n",
       "\n",
       "                                                text  label  \n",
       "0  No comment is expected from Barack Obama Membe...      1  \n",
       "1     Did they post their votes for Hillary already?      1  \n",
       "2   Now, most of the demonstrators gathered last ...      1  \n",
       "3  A dozen politically active pastors came here f...      0  \n",
       "4  The RS-28 Sarmat missile, dubbed Satan 2, will...      1  "
      ]
     },
     "execution_count": 6,
     "metadata": {},
     "output_type": "execute_result"
    }
   ],
   "source": [
    "# Drop rows with critical missing text data\n",
    "df.dropna(subset=['text'], inplace=True)\n",
    "\n",
    "df.head()\n"
   ]
  },
  {
   "cell_type": "code",
   "execution_count": 7,
   "metadata": {},
   "outputs": [
    {
     "name": "stdout",
     "output_type": "stream",
     "text": [
      "title    558\n",
      "text       0\n",
      "label      0\n",
      "dtype: int64\n"
     ]
    }
   ],
   "source": [
    "# Check for missing values in each column\n",
    "missing_values = df.isnull().sum()\n",
    "print(missing_values)"
   ]
  },
  {
   "cell_type": "code",
   "execution_count": 8,
   "metadata": {},
   "outputs": [
    {
     "name": "stderr",
     "output_type": "stream",
     "text": [
      "C:\\Users\\wware\\AppData\\Local\\Temp\\ipykernel_19772\\361475953.py:2: FutureWarning: A value is trying to be set on a copy of a DataFrame or Series through chained assignment using an inplace method.\n",
      "The behavior will change in pandas 3.0. This inplace method will never work because the intermediate object on which we are setting values always behaves as a copy.\n",
      "\n",
      "For example, when doing 'df[col].method(value, inplace=True)', try using 'df.method({col: value}, inplace=True)' or df[col] = df[col].method(value) instead, to perform the operation inplace on the original object.\n",
      "\n",
      "\n",
      "  df['title'].fillna('No Title', inplace=True)\n"
     ]
    }
   ],
   "source": [
    "# Fill missing values in 'title' column with 'No Title'\n",
    "df['title'].fillna('No Title', inplace=True)"
   ]
  },
  {
   "cell_type": "code",
   "execution_count": 9,
   "metadata": {},
   "outputs": [
    {
     "name": "stdout",
     "output_type": "stream",
     "text": [
      "title    0\n",
      "text     0\n",
      "label    0\n",
      "dtype: int64\n"
     ]
    }
   ],
   "source": [
    "# Check for missing values in each column\n",
    "missing_values = df.isnull().sum()\n",
    "print(missing_values)"
   ]
  },
  {
   "cell_type": "markdown",
   "metadata": {},
   "source": [
    "# Removing Stopwords\n",
    "\n",
    "Stopwords are common words (like \"the,\" \"is,\" \"in,\" etc.) that typically do not carry much meaning and can be removed to reduce noise in the data."
   ]
  },
  {
   "cell_type": "code",
   "execution_count": 10,
   "metadata": {},
   "outputs": [
    {
     "data": {
      "text/html": [
       "<div>\n",
       "<style scoped>\n",
       "    .dataframe tbody tr th:only-of-type {\n",
       "        vertical-align: middle;\n",
       "    }\n",
       "\n",
       "    .dataframe tbody tr th {\n",
       "        vertical-align: top;\n",
       "    }\n",
       "\n",
       "    .dataframe thead th {\n",
       "        text-align: right;\n",
       "    }\n",
       "</style>\n",
       "<table border=\"1\" class=\"dataframe\">\n",
       "  <thead>\n",
       "    <tr style=\"text-align: right;\">\n",
       "      <th></th>\n",
       "      <th>title</th>\n",
       "      <th>text</th>\n",
       "      <th>label</th>\n",
       "    </tr>\n",
       "  </thead>\n",
       "  <tbody>\n",
       "    <tr>\n",
       "      <th>0</th>\n",
       "      <td>LAW ENFORCEMENT ON HIGH ALERT Following Threat...</td>\n",
       "      <td>No comment is expected from Barack Obama Membe...</td>\n",
       "      <td>1</td>\n",
       "    </tr>\n",
       "    <tr>\n",
       "      <th>1</th>\n",
       "      <td>No Title</td>\n",
       "      <td>Did they post their votes for Hillary already?</td>\n",
       "      <td>1</td>\n",
       "    </tr>\n",
       "    <tr>\n",
       "      <th>2</th>\n",
       "      <td>UNBELIEVABLE! OBAMA’S ATTORNEY GENERAL SAYS MO...</td>\n",
       "      <td>Now, most of the demonstrators gathered last ...</td>\n",
       "      <td>1</td>\n",
       "    </tr>\n",
       "    <tr>\n",
       "      <th>3</th>\n",
       "      <td>Bobby Jindal, raised Hindu, uses story of Chri...</td>\n",
       "      <td>A dozen politically active pastors came here f...</td>\n",
       "      <td>0</td>\n",
       "    </tr>\n",
       "    <tr>\n",
       "      <th>4</th>\n",
       "      <td>SATAN 2: Russia unvelis an image of its terrif...</td>\n",
       "      <td>The RS-28 Sarmat missile, dubbed Satan 2, will...</td>\n",
       "      <td>1</td>\n",
       "    </tr>\n",
       "  </tbody>\n",
       "</table>\n",
       "</div>"
      ],
      "text/plain": [
       "                                               title  \\\n",
       "0  LAW ENFORCEMENT ON HIGH ALERT Following Threat...   \n",
       "1                                           No Title   \n",
       "2  UNBELIEVABLE! OBAMA’S ATTORNEY GENERAL SAYS MO...   \n",
       "3  Bobby Jindal, raised Hindu, uses story of Chri...   \n",
       "4  SATAN 2: Russia unvelis an image of its terrif...   \n",
       "\n",
       "                                                text  label  \n",
       "0  No comment is expected from Barack Obama Membe...      1  \n",
       "1     Did they post their votes for Hillary already?      1  \n",
       "2   Now, most of the demonstrators gathered last ...      1  \n",
       "3  A dozen politically active pastors came here f...      0  \n",
       "4  The RS-28 Sarmat missile, dubbed Satan 2, will...      1  "
      ]
     },
     "execution_count": 10,
     "metadata": {},
     "output_type": "execute_result"
    }
   ],
   "source": [
    "df.head()"
   ]
  },
  {
   "cell_type": "code",
   "execution_count": 11,
   "metadata": {},
   "outputs": [],
   "source": [
    "# Combine 'title' and 'text' into a single column called 'combined_text'\n",
    "df['combined_text'] = df['title'].fillna('') + \" \" + df['text']"
   ]
  },
  {
   "cell_type": "code",
   "execution_count": 12,
   "metadata": {},
   "outputs": [
    {
     "data": {
      "text/html": [
       "<div>\n",
       "<style scoped>\n",
       "    .dataframe tbody tr th:only-of-type {\n",
       "        vertical-align: middle;\n",
       "    }\n",
       "\n",
       "    .dataframe tbody tr th {\n",
       "        vertical-align: top;\n",
       "    }\n",
       "\n",
       "    .dataframe thead th {\n",
       "        text-align: right;\n",
       "    }\n",
       "</style>\n",
       "<table border=\"1\" class=\"dataframe\">\n",
       "  <thead>\n",
       "    <tr style=\"text-align: right;\">\n",
       "      <th></th>\n",
       "      <th>title</th>\n",
       "      <th>text</th>\n",
       "      <th>label</th>\n",
       "      <th>combined_text</th>\n",
       "    </tr>\n",
       "  </thead>\n",
       "  <tbody>\n",
       "    <tr>\n",
       "      <th>0</th>\n",
       "      <td>LAW ENFORCEMENT ON HIGH ALERT Following Threat...</td>\n",
       "      <td>No comment is expected from Barack Obama Membe...</td>\n",
       "      <td>1</td>\n",
       "      <td>LAW ENFORCEMENT ON HIGH ALERT Following Threat...</td>\n",
       "    </tr>\n",
       "    <tr>\n",
       "      <th>1</th>\n",
       "      <td>No Title</td>\n",
       "      <td>Did they post their votes for Hillary already?</td>\n",
       "      <td>1</td>\n",
       "      <td>No Title Did they post their votes for Hillary...</td>\n",
       "    </tr>\n",
       "    <tr>\n",
       "      <th>2</th>\n",
       "      <td>UNBELIEVABLE! OBAMA’S ATTORNEY GENERAL SAYS MO...</td>\n",
       "      <td>Now, most of the demonstrators gathered last ...</td>\n",
       "      <td>1</td>\n",
       "      <td>UNBELIEVABLE! OBAMA’S ATTORNEY GENERAL SAYS MO...</td>\n",
       "    </tr>\n",
       "    <tr>\n",
       "      <th>3</th>\n",
       "      <td>Bobby Jindal, raised Hindu, uses story of Chri...</td>\n",
       "      <td>A dozen politically active pastors came here f...</td>\n",
       "      <td>0</td>\n",
       "      <td>Bobby Jindal, raised Hindu, uses story of Chri...</td>\n",
       "    </tr>\n",
       "    <tr>\n",
       "      <th>4</th>\n",
       "      <td>SATAN 2: Russia unvelis an image of its terrif...</td>\n",
       "      <td>The RS-28 Sarmat missile, dubbed Satan 2, will...</td>\n",
       "      <td>1</td>\n",
       "      <td>SATAN 2: Russia unvelis an image of its terrif...</td>\n",
       "    </tr>\n",
       "  </tbody>\n",
       "</table>\n",
       "</div>"
      ],
      "text/plain": [
       "                                               title  \\\n",
       "0  LAW ENFORCEMENT ON HIGH ALERT Following Threat...   \n",
       "1                                           No Title   \n",
       "2  UNBELIEVABLE! OBAMA’S ATTORNEY GENERAL SAYS MO...   \n",
       "3  Bobby Jindal, raised Hindu, uses story of Chri...   \n",
       "4  SATAN 2: Russia unvelis an image of its terrif...   \n",
       "\n",
       "                                                text  label  \\\n",
       "0  No comment is expected from Barack Obama Membe...      1   \n",
       "1     Did they post their votes for Hillary already?      1   \n",
       "2   Now, most of the demonstrators gathered last ...      1   \n",
       "3  A dozen politically active pastors came here f...      0   \n",
       "4  The RS-28 Sarmat missile, dubbed Satan 2, will...      1   \n",
       "\n",
       "                                       combined_text  \n",
       "0  LAW ENFORCEMENT ON HIGH ALERT Following Threat...  \n",
       "1  No Title Did they post their votes for Hillary...  \n",
       "2  UNBELIEVABLE! OBAMA’S ATTORNEY GENERAL SAYS MO...  \n",
       "3  Bobby Jindal, raised Hindu, uses story of Chri...  \n",
       "4  SATAN 2: Russia unvelis an image of its terrif...  "
      ]
     },
     "execution_count": 12,
     "metadata": {},
     "output_type": "execute_result"
    }
   ],
   "source": [
    "df.head()"
   ]
  },
  {
   "cell_type": "code",
   "execution_count": 13,
   "metadata": {},
   "outputs": [
    {
     "name": "stdout",
     "output_type": "stream",
     "text": [
      "                                       combined_text  \\\n",
      "0  LAW ENFORCEMENT ON HIGH ALERT Following Threat...   \n",
      "1  No Title Did they post their votes for Hillary...   \n",
      "2  UNBELIEVABLE! OBAMA’S ATTORNEY GENERAL SAYS MO...   \n",
      "3  Bobby Jindal, raised Hindu, uses story of Chri...   \n",
      "4  SATAN 2: Russia unvelis an image of its terrif...   \n",
      "\n",
      "                                        cleaned_text  \n",
      "0  LAW ENFORCEMENT HIGH ALERT Following Threats C...  \n",
      "1                  Title post votes Hillary already?  \n",
      "2  UNBELIEVABLE! OBAMA’S ATTORNEY GENERAL SAYS CH...  \n",
      "3  Bobby Jindal, raised Hindu, uses story Christi...  \n",
      "4  SATAN 2: Russia unvelis image terrifying new ‘...  \n"
     ]
    }
   ],
   "source": [
    "# Set of English stopwords\n",
    "stop_words = set(stopwords.words('english'))\n",
    "\n",
    "def remove_stopwords(text):\n",
    "    # Tokenize the text by splitting on whitespace\n",
    "    word_tokens = text.split()\n",
    "    \n",
    "    # Filter out the stopwords\n",
    "    filtered_text = [word for word in word_tokens if word.lower() not in stop_words]\n",
    "    \n",
    "    # Join the filtered words back into a string\n",
    "    return ' '.join(filtered_text)\n",
    "\n",
    "# Apply the function to the 'combined_text' column\n",
    "df['cleaned_text'] = df['combined_text'].apply(remove_stopwords)\n",
    "\n",
    "# Display a few examples to verify the result\n",
    "print(df[['combined_text', 'cleaned_text']].head())\n"
   ]
  },
  {
   "cell_type": "markdown",
   "metadata": {},
   "source": [
    "# Removing Numerics and Special Characters\n",
    "\n",
    "Removing any numbers and special characters that do not contribute to the meaning of the text."
   ]
  },
  {
   "cell_type": "code",
   "execution_count": 14,
   "metadata": {},
   "outputs": [
    {
     "data": {
      "text/html": [
       "<div>\n",
       "<style scoped>\n",
       "    .dataframe tbody tr th:only-of-type {\n",
       "        vertical-align: middle;\n",
       "    }\n",
       "\n",
       "    .dataframe tbody tr th {\n",
       "        vertical-align: top;\n",
       "    }\n",
       "\n",
       "    .dataframe thead th {\n",
       "        text-align: right;\n",
       "    }\n",
       "</style>\n",
       "<table border=\"1\" class=\"dataframe\">\n",
       "  <thead>\n",
       "    <tr style=\"text-align: right;\">\n",
       "      <th></th>\n",
       "      <th>title</th>\n",
       "      <th>text</th>\n",
       "      <th>label</th>\n",
       "      <th>combined_text</th>\n",
       "      <th>cleaned_text</th>\n",
       "    </tr>\n",
       "  </thead>\n",
       "  <tbody>\n",
       "    <tr>\n",
       "      <th>0</th>\n",
       "      <td>LAW ENFORCEMENT ON HIGH ALERT Following Threat...</td>\n",
       "      <td>No comment is expected from Barack Obama Membe...</td>\n",
       "      <td>1</td>\n",
       "      <td>LAW ENFORCEMENT ON HIGH ALERT Following Threat...</td>\n",
       "      <td>LAW ENFORCEMENT HIGH ALERT Following Threats C...</td>\n",
       "    </tr>\n",
       "    <tr>\n",
       "      <th>1</th>\n",
       "      <td>No Title</td>\n",
       "      <td>Did they post their votes for Hillary already?</td>\n",
       "      <td>1</td>\n",
       "      <td>No Title Did they post their votes for Hillary...</td>\n",
       "      <td>Title post votes Hillary already?</td>\n",
       "    </tr>\n",
       "    <tr>\n",
       "      <th>2</th>\n",
       "      <td>UNBELIEVABLE! OBAMA’S ATTORNEY GENERAL SAYS MO...</td>\n",
       "      <td>Now, most of the demonstrators gathered last ...</td>\n",
       "      <td>1</td>\n",
       "      <td>UNBELIEVABLE! OBAMA’S ATTORNEY GENERAL SAYS MO...</td>\n",
       "      <td>UNBELIEVABLE! OBAMA’S ATTORNEY GENERAL SAYS CH...</td>\n",
       "    </tr>\n",
       "    <tr>\n",
       "      <th>3</th>\n",
       "      <td>Bobby Jindal, raised Hindu, uses story of Chri...</td>\n",
       "      <td>A dozen politically active pastors came here f...</td>\n",
       "      <td>0</td>\n",
       "      <td>Bobby Jindal, raised Hindu, uses story of Chri...</td>\n",
       "      <td>Bobby Jindal, raised Hindu, uses story Christi...</td>\n",
       "    </tr>\n",
       "    <tr>\n",
       "      <th>4</th>\n",
       "      <td>SATAN 2: Russia unvelis an image of its terrif...</td>\n",
       "      <td>The RS-28 Sarmat missile, dubbed Satan 2, will...</td>\n",
       "      <td>1</td>\n",
       "      <td>SATAN 2: Russia unvelis an image of its terrif...</td>\n",
       "      <td>SATAN 2: Russia unvelis image terrifying new ‘...</td>\n",
       "    </tr>\n",
       "  </tbody>\n",
       "</table>\n",
       "</div>"
      ],
      "text/plain": [
       "                                               title  \\\n",
       "0  LAW ENFORCEMENT ON HIGH ALERT Following Threat...   \n",
       "1                                           No Title   \n",
       "2  UNBELIEVABLE! OBAMA’S ATTORNEY GENERAL SAYS MO...   \n",
       "3  Bobby Jindal, raised Hindu, uses story of Chri...   \n",
       "4  SATAN 2: Russia unvelis an image of its terrif...   \n",
       "\n",
       "                                                text  label  \\\n",
       "0  No comment is expected from Barack Obama Membe...      1   \n",
       "1     Did they post their votes for Hillary already?      1   \n",
       "2   Now, most of the demonstrators gathered last ...      1   \n",
       "3  A dozen politically active pastors came here f...      0   \n",
       "4  The RS-28 Sarmat missile, dubbed Satan 2, will...      1   \n",
       "\n",
       "                                       combined_text  \\\n",
       "0  LAW ENFORCEMENT ON HIGH ALERT Following Threat...   \n",
       "1  No Title Did they post their votes for Hillary...   \n",
       "2  UNBELIEVABLE! OBAMA’S ATTORNEY GENERAL SAYS MO...   \n",
       "3  Bobby Jindal, raised Hindu, uses story of Chri...   \n",
       "4  SATAN 2: Russia unvelis an image of its terrif...   \n",
       "\n",
       "                                        cleaned_text  \n",
       "0  LAW ENFORCEMENT HIGH ALERT Following Threats C...  \n",
       "1                  Title post votes Hillary already?  \n",
       "2  UNBELIEVABLE! OBAMA’S ATTORNEY GENERAL SAYS CH...  \n",
       "3  Bobby Jindal, raised Hindu, uses story Christi...  \n",
       "4  SATAN 2: Russia unvelis image terrifying new ‘...  "
      ]
     },
     "execution_count": 14,
     "metadata": {},
     "output_type": "execute_result"
    }
   ],
   "source": [
    "df.head()"
   ]
  },
  {
   "cell_type": "code",
   "execution_count": 15,
   "metadata": {},
   "outputs": [
    {
     "name": "stdout",
     "output_type": "stream",
     "text": [
      "                                       combined_text  \\\n",
      "0  LAW ENFORCEMENT ON HIGH ALERT Following Threat...   \n",
      "1  No Title Did they post their votes for Hillary...   \n",
      "2  UNBELIEVABLE! OBAMA’S ATTORNEY GENERAL SAYS MO...   \n",
      "3  Bobby Jindal, raised Hindu, uses story of Chri...   \n",
      "4  SATAN 2: Russia unvelis an image of its terrif...   \n",
      "\n",
      "                                        cleaned_text  \n",
      "0  LAW ENFORCEMENT HIGH ALERT Following Threats C...  \n",
      "1                   Title post votes Hillary already  \n",
      "2  UNBELIEVABLE OBAMAS ATTORNEY GENERAL SAYS CHAR...  \n",
      "3  Bobby Jindal raised Hindu uses story Christian...  \n",
      "4  SATAN Russia unvelis image terrifying new SUPE...  \n"
     ]
    }
   ],
   "source": [
    "def clean_text(text):\n",
    "    # Remove special characters and numerics using regex\n",
    "    text = re.sub(r'[^A-Za-z\\s]', '', text)\n",
    "    \n",
    "    # Remove extra spaces\n",
    "    text = re.sub(r'\\s+', ' ', text).strip()\n",
    "    \n",
    "    return text\n",
    "\n",
    "# Apply the cleaning function to the 'cleaned_text' column\n",
    "df['cleaned_text'] = df['cleaned_text'].apply(clean_text)\n",
    "\n",
    "# Display a few examples to verify the result\n",
    "print(df[['combined_text', 'cleaned_text']].head())\n"
   ]
  },
  {
   "cell_type": "markdown",
   "metadata": {},
   "source": [
    "# Lemmatisation\n",
    "\n",
    "Lemmatisation helps reduce words to their base form (e.g., \"running\" to \"run\"). NLTK’s WordNetLemmatizer is used for this."
   ]
  },
  {
   "cell_type": "code",
   "execution_count": 16,
   "metadata": {},
   "outputs": [
    {
     "name": "stdout",
     "output_type": "stream",
     "text": [
      "                                       combined_text  \\\n",
      "0  LAW ENFORCEMENT ON HIGH ALERT Following Threat...   \n",
      "1  No Title Did they post their votes for Hillary...   \n",
      "2  UNBELIEVABLE! OBAMA’S ATTORNEY GENERAL SAYS MO...   \n",
      "3  Bobby Jindal, raised Hindu, uses story of Chri...   \n",
      "4  SATAN 2: Russia unvelis an image of its terrif...   \n",
      "\n",
      "                                        cleaned_text  \n",
      "0  LAW ENFORCEMENT HIGH ALERT Following Threats C...  \n",
      "1                    Title post vote Hillary already  \n",
      "2  UNBELIEVABLE OBAMAS ATTORNEY GENERAL SAYS CHAR...  \n",
      "3  Bobby Jindal raised Hindu us story Christian c...  \n",
      "4  SATAN Russia unvelis image terrifying new SUPE...  \n"
     ]
    }
   ],
   "source": [
    "# Initialize the lemmatizer\n",
    "lemmatizer = WordNetLemmatizer()\n",
    "\n",
    "def lemmatize_text(text):\n",
    "    # Lemmatize each word in the text\n",
    "    lemmatized_text = ' '.join([lemmatizer.lemmatize(word) for word in text.split()])\n",
    "    return lemmatized_text\n",
    "\n",
    "# Apply the lemmatization function to the 'cleaned_text' column\n",
    "df['cleaned_text'] = df['cleaned_text'].apply(lemmatize_text)\n",
    "\n",
    "# Display a few examples to verify the result\n",
    "print(df[['combined_text', 'cleaned_text']].head())\n"
   ]
  },
  {
   "cell_type": "markdown",
   "metadata": {},
   "source": [
    "# Case Folding (Lowercasing)\n",
    "\n",
    "Uniform casing ensures consistency, which is essential for text processing. Let's convert all the text to lowercase."
   ]
  },
  {
   "cell_type": "code",
   "execution_count": 17,
   "metadata": {},
   "outputs": [
    {
     "name": "stdout",
     "output_type": "stream",
     "text": [
      "                                       combined_text  \\\n",
      "0  LAW ENFORCEMENT ON HIGH ALERT Following Threat...   \n",
      "1  No Title Did they post their votes for Hillary...   \n",
      "2  UNBELIEVABLE! OBAMA’S ATTORNEY GENERAL SAYS MO...   \n",
      "3  Bobby Jindal, raised Hindu, uses story of Chri...   \n",
      "4  SATAN 2: Russia unvelis an image of its terrif...   \n",
      "\n",
      "                                        cleaned_text  \n",
      "0  law enforcement high alert following threats c...  \n",
      "1                    title post vote hillary already  \n",
      "2  unbelievable obamas attorney general says char...  \n",
      "3  bobby jindal raised hindu us story christian c...  \n",
      "4  satan russia unvelis image terrifying new supe...  \n"
     ]
    }
   ],
   "source": [
    "# Convert all text to lowercase\n",
    "df['cleaned_text'] = df['cleaned_text'].str.lower()\n",
    "\n",
    "# Display a few examples to verify the result\n",
    "print(df[['combined_text', 'cleaned_text']].head())\n"
   ]
  },
  {
   "cell_type": "markdown",
   "metadata": {},
   "source": [
    "# Tokenisation and Padding\n",
    "\n",
    "The next step is to tokenise the text and pad the sequences. Tokenisation converts text into sequences of integers where each integer corresponds to a specific word in the text. Padding ensures that all sequences have the same length, which is necessary for feeding the data into most machine learning models."
   ]
  },
  {
   "cell_type": "code",
   "execution_count": 18,
   "metadata": {},
   "outputs": [
    {
     "name": "stdout",
     "output_type": "stream",
     "text": [
      "Total unique words in the dataset: 330277\n"
     ]
    }
   ],
   "source": [
    "# Examine the Vocabulary Size\n",
    "\n",
    "# Initialize the tokenizer without limiting the number of words\n",
    "tokenizer = Tokenizer()\n",
    "\n",
    "# Fit the tokenizer on the cleaned text data\n",
    "tokenizer.fit_on_texts(df['cleaned_text'])\n",
    "\n",
    "# Get the total number of unique words\n",
    "total_unique_words = len(tokenizer.word_index)\n",
    "print(f\"Total unique words in the dataset: {total_unique_words}\")"
   ]
  },
  {
   "cell_type": "code",
   "execution_count": 19,
   "metadata": {},
   "outputs": [
    {
     "name": "stdout",
     "output_type": "stream",
     "text": [
      "Number of words covering 90% of the dataset: 10827\n",
      "Number of words covering 95% of the dataset: 24016\n"
     ]
    },
    {
     "data": {
      "image/png": "[encoded data removed]",
      "text/plain": [
       "<Figure size 640x480 with 1 Axes>"
      ]
     },
     "metadata": {},
     "output_type": "display_data"
    }
   ],
   "source": [
    "# Get the word index (word -> integer mapping)\n",
    "word_index = tokenizer.word_index\n",
    "\n",
    "# Get the word counts (how many times each word appears)\n",
    "word_counts = tokenizer.word_counts\n",
    "\n",
    "# Sort words by frequency\n",
    "sorted_word_counts = sorted(word_counts.items(), key=lambda x: x[1], reverse=True)\n",
    "\n",
    "# Calculate the cumulative coverage\n",
    "cumulative_coverage = []\n",
    "cumulative_count = 0\n",
    "total_word_count = sum(word_counts.values())\n",
    "\n",
    "for word, count in sorted_word_counts:\n",
    "    cumulative_count += count\n",
    "    cumulative_coverage.append(cumulative_count / total_word_count)\n",
    "\n",
    "# Calculate num_words for 90% and 95% coverage\n",
    "coverage_90 = next(i for i, coverage in enumerate(cumulative_coverage) if coverage >= 0.90) + 1\n",
    "coverage_95 = next(i for i, coverage in enumerate(cumulative_coverage) if coverage >= 0.95) + 1\n",
    "\n",
    "print(f\"Number of words covering 90% of the dataset: {coverage_90}\")\n",
    "print(f\"Number of words covering 95% of the dataset: {coverage_95}\")\n",
    "\n",
    "# Plot the cumulative coverage\n",
    "import matplotlib.pyplot as plt\n",
    "\n",
    "plt.plot(cumulative_coverage)\n",
    "plt.xlabel(\"Number of words\")\n",
    "plt.ylabel(\"Cumulative coverage\")\n",
    "plt.title(\"Cumulative Word Coverage\")\n",
    "plt.axvline(x=coverage_90, color='r', linestyle='--', label=f'90% coverage ({coverage_90} words)')\n",
    "plt.axvline(x=coverage_95, color='g', linestyle='--', label=f'95% coverage ({coverage_95} words)')\n",
    "plt.legend()\n",
    "plt.show()\n",
    "\n"
   ]
  },
  {
   "cell_type": "markdown",
   "metadata": {},
   "source": [
    "Using the cumulative coverage plot to choose a num_words value that balances vocabulary size and coverage. For this dataset I have selected `24,016` words that cover 95% of the dataset."
   ]
  },
  {
   "cell_type": "code",
   "execution_count": 20,
   "metadata": {},
   "outputs": [
    {
     "name": "stdout",
     "output_type": "stream",
     "text": [
      "[[47, 644, 325, 3349, 433, 11126, 5952, 9354, 2712, 8859, 1, 6494, 84, 175, 485, 443, 23, 4331, 1, 1, 8859, 548, 115, 12430, 4628, 32, 5, 1713, 2987, 301, 976, 107, 186, 285, 473, 6227, 1171, 32, 5, 1713, 1151, 434, 846, 132, 5, 1, 1, 3028, 115, 10373, 976, 2589, 107, 3212, 497, 115, 10373, 14365, 790, 976, 107, 9909, 1, 1, 187, 735, 1125, 107, 2964, 243, 141, 266, 1, 2202, 388, 5528, 6086, 32, 9909, 187, 976, 141, 4805, 1, 976, 107, 5281, 1125, 964, 903, 1, 107, 3582, 866, 141, 12430, 846, 32, 1, 888, 3019, 976, 107, 830, 418, 1067, 484, 497, 455, 4, 15, 2137, 1, 212, 620, 311, 354, 300, 12188, 1, 527, 1, 5598, 132, 154, 2, 726, 1, 2107, 428, 14365, 569, 15, 63, 3422, 1, 1, 6, 63, 481, 2364, 569, 2, 624, 212, 2364, 1945, 2814, 610, 934, 132, 726, 1, 75, 32, 329, 2089, 1709, 320, 473, 1686, 12748, 1713, 659, 1548, 5, 10, 1360, 8723, 6, 28, 91, 4, 837, 1, 1844, 179, 77, 1, 54, 428, 1, 569, 212, 472, 346, 11198, 249, 1143, 10373, 20, 830, 142, 14366, 604, 14511, 604, 2, 82, 473, 1686, 217, 1018, 472, 571, 418, 2164, 82, 256, 3921, 1, 2, 1928, 719, 1279, 15, 17, 1928, 397, 367, 77, 716, 227, 11198, 2814, 2, 552, 188, 81, 11783, 719, 473, 1686, 1, 2, 49, 428, 1, 15, 1, 31, 3228, 1, 348, 407, 9170, 846, 132, 5, 132, 122, 239, 726, 1, 249, 39, 239, 217, 304, 726, 1, 1186, 4438, 1709, 14129, 4292, 4187, 2794, 62, 1112, 1151, 726, 1, 82, 6, 543, 5, 428, 1, 473, 1686, 719, 2, 2, 428, 17724, 709, 2, 6, 32, 329, 6045, 1, 428, 17724, 709, 716, 132, 5, 128, 1534, 2200, 2, 40, 1, 112, 132, 154, 838, 142, 730, 1171, 1713, 846, 63, 30, 132, 1829, 2, 333, 2503, 41, 216, 484, 497, 982, 231, 10373, 2478, 694, 32, 5, 9019, 7792, 6, 527, 141, 4946, 423, 711, 157, 6, 1, 1056, 741, 659, 2369, 2181, 1, 1, 548, 243, 1874, 42, 1056, 9019, 1263, 746, 527, 141, 54, 1702, 4992, 3770, 658, 14365, 1035, 6839, 8320, 6562, 6045, 2794, 484, 497, 982, 7112, 10373, 10491, 12799, 430, 1, 615, 1506, 497, 2, 32, 5, 346, 42, 776, 4823, 75, 1, 2756, 314, 221, 6, 839, 1, 2, 430, 14512, 1, 2967, 10491, 12799, 1, 2756, 15, 513, 1, 132, 1217, 17, 1076, 5727, 127, 316, 1172, 381, 98, 751, 500, 3076, 36, 231, 484, 497, 218, 747, 187, 2138, 548, 1, 770, 3331, 6, 314, 3028, 2, 2015, 84, 243, 3541, 3094, 6086, 11410, 1100, 32, 5036, 15, 44, 995, 720, 995, 68, 4125, 6850, 6798, 5498, 1, 1, 1, 1, 746, 135, 439, 1, 1684, 209, 11914, 5397, 746, 28, 797, 6, 924, 4485, 797, 132, 154, 14290, 6279, 8883, 44, 1, 637, 178, 484, 33], [1750, 219, 59, 37, 212], [5561, 555, 411, 159, 3040, 4777, 18279, 2085, 1, 158, 10, 131, 909, 84, 266, 4583, 2395, 35, 285, 7027, 1518, 2480, 41, 2085, 430, 152, 942, 118, 862, 123, 3696, 2089, 6303, 1694, 2745, 9171], [7921, 10273, 894, 7003, 8, 178, 1091, 8671, 11281, 6722, 665, 1528, 1008, 1756, 1841, 3146, 247, 380, 1827, 201, 285, 1058, 8671, 178, 3043, 2620, 96, 465, 3390, 1729, 7921, 10273, 3213, 1, 12281, 4609, 342, 1455, 611, 141, 4956, 2367, 28, 408, 10273, 2593, 673, 860, 325, 180, 531, 1399, 3050, 1774, 3491, 7704, 803, 4, 75, 1401, 6963, 1597, 1356, 402, 11, 8621, 2576, 2101, 104, 1961, 1961, 452, 10273, 42, 3146, 185, 629, 856, 904, 4637, 1, 1901, 1091, 13912, 352, 9721, 361, 96, 4323, 10, 1262, 263, 909, 97, 14513, 196, 3390, 431, 304, 53, 845, 20, 135, 10927, 214, 10274, 38, 108, 1024, 303, 32, 22, 337, 435, 2345, 1202, 18435, 80, 118, 197, 292, 10273, 7070, 3840, 3034, 11463, 1, 1428, 290, 1818, 2884, 772, 243, 135, 1376, 8219, 507, 158, 10, 1, 851, 819, 49, 2443, 1042, 97, 7644, 3112, 1964, 851, 189, 31, 244, 304, 1956, 203, 110, 14291, 96, 335, 665, 435, 108, 20290, 4956, 845, 103, 6926, 3535, 553, 11872, 1079, 432, 10746, 2285, 1729, 945, 1029, 1061, 1, 10416, 1136, 6722, 158, 1842, 290, 2771, 179, 5374, 4401, 16194, 10273, 773, 39, 1290, 1327, 1827, 3146, 1903, 1, 141, 211, 688, 1091, 189, 2395, 1, 9200, 2453, 673, 1537, 1, 2, 7, 555, 386, 2128, 851, 1842, 3146, 247, 681, 10273, 2, 7113, 4159, 819, 1731, 481, 390, 2538, 62, 5499, 217, 2, 7478, 7910, 3793, 1348, 1091, 811, 1, 1262, 7910, 825, 57, 3356, 431, 945, 4300, 1209, 25, 1164, 1262, 112, 4300, 12371, 5374, 902, 5409, 5735, 331, 6352, 811, 1, 7627, 2, 1, 1570, 1091, 779, 5616, 178, 166, 728, 6577, 4300, 6352, 7732, 1988, 465, 2909, 3146, 4144, 1, 1061, 4033, 44, 8384, 558, 17849, 2637, 45, 7257, 4956, 1852, 2636, 6071, 4601, 130, 3225, 17464, 1376, 191, 1712, 3146, 4619, 5787, 45, 1830, 731, 4326, 1303, 3146, 566, 1756, 347, 10, 1262, 3188, 1203, 263, 909, 525, 1047, 522, 553, 301, 1024, 39, 13793, 4956, 772, 45, 4326, 2410, 1, 857, 26, 1, 1576, 190, 1830, 44, 121, 1283, 1826, 4956, 772, 45, 806, 566, 1091, 976, 1227, 3146, 1, 344, 787, 1, 722, 10273, 2, 2276, 323, 541, 2948, 766, 1313, 6164, 8439, 11959, 5567, 8294, 1, 121, 1558, 1837, 9910, 937, 58, 1078, 215, 17226, 1509, 1157, 1, 578, 10273, 2299, 1215, 1084, 5134, 9200, 688, 562, 198, 624, 5116, 1161, 482, 1, 729, 834, 1, 1, 22, 5335, 766, 3432, 35, 55, 2933, 660, 1167, 5872, 3484, 1322, 111, 61, 800, 4777, 7983, 2861, 731, 1, 1842, 3034, 2045, 7984, 380, 3528, 10273, 115, 211, 112, 3266, 8321, 3287, 564, 744, 652, 5872, 38, 34, 800, 407, 11464, 107, 1, 4, 642, 345, 942, 10273, 2, 1842, 815, 7461, 1758, 10928, 3190, 6335, 1286, 2587, 1677, 377, 748, 2822, 707, 671, 821, 1071, 11915, 1339, 1717, 292, 230, 4331, 121, 3855, 10928, 3190, 256, 2430, 31, 851, 189, 2, 7654, 1293, 145, 879, 1259, 1840, 235, 984, 2021, 1415, 30, 1105, 41, 851, 588, 121, 1141, 1853, 3468, 5314, 2604, 1521, 81, 2129, 1326, 2024, 3464, 308, 11, 3566, 27, 5421, 7231, 3829, 10273, 42, 1842, 3034, 1349, 239, 23, 102, 3146, 247, 75, 10273, 211, 431, 178, 3292, 1061, 31, 49, 2238, 12695, 7, 772, 722, 1, 10273, 1242, 308, 90, 803, 1572, 5106, 5959, 708, 1797, 1605, 1205, 306, 7921, 439, 1211, 8295, 306, 1616, 1956, 900, 107, 70, 4247, 3422, 195, 256, 1091, 42, 3146, 86, 6, 595, 9426, 22145, 407, 2, 655, 3054, 979, 499, 4694, 7203, 16, 10273, 2593, 3548, 410, 4725, 180, 609, 3491, 306, 13449, 1044, 983, 2333, 1070, 1961, 2192, 1, 2769, 10273, 42, 3146, 1396, 50, 4, 1587, 128, 172, 3491, 540, 51, 40, 6, 284, 1276, 2593, 1291, 16, 342, 1044, 1, 1318, 2530, 227, 279, 544, 19, 851, 804, 1130, 965, 1302, 4783, 11, 325, 180, 42, 1827, 1256, 531, 831, 948, 860, 1441, 8997, 953, 659, 673, 1537, 856, 518, 1045, 860, 2410, 578, 811, 10273, 2, 3966, 265, 2144, 1, 278, 58, 860, 410, 659, 1774, 3491, 7704, 158, 104, 8548, 803, 4, 5484, 2, 8809, 595, 727, 3845, 8621, 2101, 851, 1356, 3491, 2786, 2450, 1128, 7716, 275, 10273, 42, 3146, 10273, 17988, 4419, 8671, 22900, 11, 254, 575, 2, 17092, 2353, 811, 5145, 3919, 9200, 688, 2362, 2663, 104, 333, 778, 4956, 2367, 1202, 1272, 9911, 49, 509, 779, 1091, 189, 104, 449, 312, 2576, 3845, 3370, 604, 10273, 42, 3034, 562, 1974, 319, 2805, 5712, 8671, 376, 285, 3146, 104, 168, 56, 194, 856, 241, 3371, 17, 194, 513], [7557, 94, 1, 224, 5599, 9, 1, 662, 50, 62, 2047, 11465, 20661, 617, 5600, 7557, 1496, 9635, 1, 1182, 3585, 1062, 4923, 1691, 1182, 3585, 447, 3877, 97, 1419, 2156, 94, 20, 2077, 6193, 1, 16, 878, 14984, 1168, 1621, 9577, 19086, 20291, 1, 20878, 1, 94, 4774, 6991, 1112, 915, 318, 270, 617, 2690, 3322, 291, 2052, 985, 11465, 20661, 617, 5600, 7557, 989, 214, 2823, 1182, 3585, 1062, 331, 1500, 1, 10550, 3873, 165, 9, 20661, 617, 20, 2077, 6193, 1, 16, 878, 14984, 1168, 1621, 9577, 19086, 9663, 84, 137, 7, 1426, 480, 1508, 1523, 1496, 21, 2225, 9635, 7557, 447, 9, 617, 1558, 3382, 240, 4764, 574, 2258, 2948, 1424, 574, 1434, 834, 1, 10022, 740, 8, 1514, 1112, 1167, 868, 268, 5037, 1, 3354, 2740, 1505, 434, 746, 2700, 1112, 2, 420, 6771, 4695, 137, 18, 728, 10, 362, 152, 1523, 1004, 1, 3354, 2740, 1505, 5655, 428, 2740, 854, 83, 20661, 11465, 20661, 617, 2, 3070, 270, 6193, 2690, 3322, 291, 2052, 985, 497, 88, 137, 33, 566, 1, 2295, 1501, 901, 3503, 447, 14, 416, 9454, 4457, 485, 1691, 1182, 3585, 4, 648, 889, 98, 910, 637, 426, 2032, 1173]]\n"
     ]
    }
   ],
   "source": [
    "# 1. Tokenise the text\n",
    "# Initialise the tokeniser\n",
    "tokenizer = Tokenizer(num_words=24016, oov_token='<OOV>')  # Adjust num_words based on your dataset size\n",
    "\n",
    "# Fit the tokeniser on the cleaned text data\n",
    "tokenizer.fit_on_texts(df['cleaned_text'])\n",
    "\n",
    "# Convert the cleaned text to sequences\n",
    "sequences = tokenizer.texts_to_sequences(df['cleaned_text'])\n",
    "\n",
    "# Check the first few sequences to ensure tokenisation is working correctly\n",
    "print(sequences[:5])"
   ]
  },
  {
   "cell_type": "code",
   "execution_count": 22,
   "metadata": {},
   "outputs": [
    {
     "name": "stdout",
     "output_type": "stream",
     "text": [
      "90th percentile max_sequence_length set to: 642\n",
      "95th percentile max_sequence_length set to: 818\n",
      "First padded sequence: [   47   644   325  3349   433 11126  5952  9354  2712  8859     1  6494\n",
      "    84   175   485   443    23  4331     1     1  8859   548   115 12430\n",
      "  4628    32     5  1713  2987   301   976   107   186   285   473  6227\n",
      "  1171    32     5  1713  1151   434   846   132     5     1     1  3028\n",
      "   115 10373   976  2589   107  3212   497   115 10373 14365   790   976\n",
      "   107  9909     1     1   187   735  1125   107  2964   243   141   266\n",
      "     1  2202   388  5528  6086    32  9909   187   976   141  4805     1\n",
      "   976   107  5281  1125   964   903     1   107  3582   866   141 12430\n",
      "   846    32     1   888  3019   976   107   830   418  1067   484   497\n",
      "   455     4    15  2137     1   212   620   311   354   300 12188     1\n",
      "   527     1  5598   132   154     2   726     1  2107   428 14365   569\n",
      "    15    63  3422     1     1     6    63   481  2364   569     2   624\n",
      "   212  2364  1945  2814   610   934   132   726     1    75    32   329\n",
      "  2089  1709   320   473  1686 12748  1713   659  1548     5    10  1360\n",
      "  8723     6    28    91     4   837     1  1844   179    77     1    54\n",
      "   428     1   569   212   472   346 11198   249  1143 10373    20   830\n",
      "   142 14366   604 14511   604     2    82   473  1686   217  1018   472\n",
      "   571   418  2164    82   256  3921     1     2  1928   719  1279    15\n",
      "    17  1928   397   367    77   716   227 11198  2814     2   552   188\n",
      "    81 11783   719   473  1686     1     2    49   428     1    15     1\n",
      "    31  3228     1   348   407  9170   846   132     5   132   122   239\n",
      "   726     1   249    39   239   217   304   726     1  1186  4438  1709\n",
      " 14129  4292  4187  2794    62  1112  1151   726     1    82     6   543\n",
      "     5   428     1   473  1686   719     2     2   428 17724   709     2\n",
      "     6    32   329  6045     1   428 17724   709   716   132     5   128\n",
      "  1534  2200     2    40     1   112   132   154   838   142   730  1171\n",
      "  1713   846    63    30   132  1829     2   333  2503    41   216   484\n",
      "   497   982   231 10373  2478   694    32     5  9019  7792     6   527\n",
      "   141  4946   423   711   157     6     1  1056   741   659  2369  2181\n",
      "     1     1   548   243  1874    42  1056  9019  1263   746   527   141\n",
      "    54  1702  4992  3770   658 14365  1035  6839  8320  6562  6045  2794\n",
      "   484   497   982  7112 10373 10491 12799   430     1   615  1506   497\n",
      "     2    32     5   346    42   776  4823    75     1  2756   314   221\n",
      "     6   839     1     2   430 14512     1  2967 10491 12799     1  2756\n",
      "    15   513     1   132  1217    17  1076  5727   127   316  1172   381\n",
      "    98   751   500  3076    36   231   484   497   218   747   187  2138\n",
      "   548     1   770  3331     6   314  3028     2  2015    84   243  3541\n",
      "  3094  6086 11410  1100    32  5036    15    44   995   720   995    68\n",
      "  4125  6850  6798  5498     1     1     1     1   746   135   439     1\n",
      "  1684   209 11914  5397   746    28   797     6   924  4485   797   132\n",
      "   154 14290  6279  8883    44     1   637   178   484    33     0     0\n",
      "     0     0     0     0     0     0     0     0     0     0     0     0\n",
      "     0     0     0     0     0     0     0     0     0     0     0     0\n",
      "     0     0     0     0     0     0     0     0     0     0     0     0\n",
      "     0     0     0     0     0     0     0     0     0     0     0     0\n",
      "     0     0     0     0     0     0     0     0     0     0     0     0\n",
      "     0     0     0     0     0     0     0     0     0     0     0     0\n",
      "     0     0     0     0     0     0     0     0     0     0     0     0\n",
      "     0     0     0     0     0     0     0     0     0     0     0     0\n",
      "     0     0     0     0     0     0     0     0     0     0     0     0\n",
      "     0     0     0     0     0     0     0     0     0     0     0     0\n",
      "     0     0     0     0     0     0     0     0     0     0     0     0\n",
      "     0     0     0     0     0     0     0     0     0     0     0     0\n",
      "     0     0     0     0     0     0     0     0     0     0     0     0\n",
      "     0     0     0     0     0     0     0     0     0     0     0     0\n",
      "     0     0     0     0     0     0     0     0     0     0     0     0\n",
      "     0     0     0     0     0     0     0     0     0     0     0     0\n",
      "     0     0     0     0     0     0     0     0     0     0     0     0\n",
      "     0     0     0     0     0     0     0     0     0     0     0     0\n",
      "     0     0     0     0     0     0     0     0     0     0     0     0\n",
      "     0     0     0     0     0     0     0     0     0     0     0     0\n",
      "     0     0     0     0     0     0     0     0     0     0     0     0\n",
      "     0     0     0     0     0     0     0     0     0     0     0     0\n",
      "     0     0     0     0     0     0     0     0     0     0     0     0\n",
      "     0     0     0     0     0     0     0     0     0     0     0     0\n",
      "     0     0     0     0     0     0     0     0     0     0     0     0\n",
      "     0     0     0     0     0     0     0     0     0     0     0     0\n",
      "     0     0     0     0     0     0     0     0     0     0     0     0\n",
      "     0     0]\n",
      "Shape of padded_sequences: (72095, 818)\n"
     ]
    },
    {
     "data": {
      "image/png": "[encoded data removed]",
      "text/plain": [
       "<Figure size 1000x600 with 1 Axes>"
      ]
     },
     "metadata": {},
     "output_type": "display_data"
    }
   ],
   "source": [
    "sequences = tokenizer.texts_to_sequences(df['cleaned_text'])\n",
    "\n",
    "# Calculate the lengths of all sequences\n",
    "sequence_lengths = [len(seq) for seq in sequences]\n",
    "\n",
    "# Determine the 90th and 95th percentiles\n",
    "percentile_90 = int(np.percentile(sequence_lengths, 90))\n",
    "percentile_95 = int(np.percentile(sequence_lengths, 95))\n",
    "\n",
    "# Print the chosen max_sequence_lengths\n",
    "print(f\"90th percentile max_sequence_length set to: {percentile_90}\")\n",
    "print(f\"95th percentile max_sequence_length set to: {percentile_95}\")\n",
    "\n",
    "# Pad the sequences to the 95th percentile length\n",
    "padded_sequences = pad_sequences(sequences, maxlen=percentile_95, padding='post', truncating='post')\n",
    "\n",
    "# Verify the padding\n",
    "print(f\"First padded sequence: {padded_sequences[0]}\")\n",
    "print(f\"Shape of padded_sequences: {padded_sequences.shape}\")\n",
    "\n",
    "# Plot the distribution of sequence lengths\n",
    "plt.figure(figsize=(10, 6))\n",
    "plt.hist(sequence_lengths, bins=50, alpha=0.75, color='blue', edgecolor='black')\n",
    "plt.axvline(percentile_90, color='orange', linestyle='dashed', linewidth=2, label=f'90th Percentile: {percentile_90}')\n",
    "plt.axvline(percentile_95, color='red', linestyle='dashed', linewidth=2, label=f'95th Percentile: {percentile_95}')\n",
    "plt.xlabel('Sequence Length')\n",
    "plt.ylabel('Frequency')\n",
    "plt.title('Distribution of Sequence Lengths with Percentiles')\n",
    "plt.legend()\n",
    "plt.show()"
   ]
  },
  {
   "cell_type": "code",
   "execution_count": 21,
   "metadata": {},
   "outputs": [
    {
     "name": "stdout",
     "output_type": "stream",
     "text": [
      "Padded sequences shape: (72095, 818)\n",
      "[[   47   644   325 ...     0     0     0]\n",
      " [ 1750   219    59 ...     0     0     0]\n",
      " [ 5561   555   411 ...     0     0     0]\n",
      " [ 7921 10273   894 ...     0     0     0]\n",
      " [ 7557    94     1 ...     0     0     0]]\n"
     ]
    }
   ],
   "source": [
    "# 2. Padding Sequences\n",
    "\n",
    "# Determine the maximum sequence length based on your data (e.g., 95th percentile of sequence lengths)\n",
    "max_sequence_length = 818  # Adjust this value based on the output of the previous step\n",
    "\n",
    "# Pad the sequences to ensure they are all of the same length\n",
    "padded_sequences = pad_sequences(sequences, maxlen=max_sequence_length, padding='post', truncating='post')\n",
    "\n",
    "# Check the shape and the first few padded sequences to ensure everything looks correct\n",
    "print(f\"Padded sequences shape: {padded_sequences.shape}\")\n",
    "print(padded_sequences[:5])\n"
   ]
  },
  {
   "cell_type": "code",
   "execution_count": 25,
   "metadata": {},
   "outputs": [
    {
     "name": "stdout",
     "output_type": "stream",
     "text": [
      "Data has been serialised and saved in the '../data/processed' folder.\n"
     ]
    }
   ],
   "source": [
    "# Create the directory if it does not exist\n",
    "os.makedirs('../data/processed', exist_ok=True)\n",
    "\n",
    "# Save the padded sequences in HDF5 format\n",
    "with h5py.File('../data/processed/padded_sequences.h5', 'w') as f:\n",
    "    f.create_dataset('padded_sequences', data=padded_sequences)\n",
    "\n",
    "# Save the tokeniser separately as Pickle (HDF5 is not as straightforward for Python objects like the tokenizer)\n",
    "with open('../data/processed/tokenizer.pkl', 'wb') as f:\n",
    "    pickle.dump(tokenizer, f)\n",
    "\n",
    "# Save the processed DataFrame\n",
    "df.to_hdf('../data/processed/processed_data.h5', key='df', mode='w')\n",
    "\n",
    "print(\"Data has been serialised and saved in the '../data/processed' folder.\")\n"
   ]
  }
 ],
 "metadata": {
  "kernelspec": {
   "display_name": "fake-news-predictor",
   "language": "python",
   "name": "python3"
  },
  "language_info": {
   "codemirror_mode": {
    "name": "ipython",
    "version": 3
   },
   "file_extension": ".py",
   "mimetype": "text/x-python",
   "name": "python",
   "nbconvert_exporter": "python",
   "pygments_lexer": "ipython3",
   "version": "3.10.14"
  }
 },
 "nbformat": 4,
 "nbformat_minor": 2
}
