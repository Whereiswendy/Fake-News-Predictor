{
 "cells": [
  {
   "cell_type": "markdown",
   "metadata": {},
   "source": [
    "# Import Libraries"
   ]
  },
  {
   "cell_type": "code",
   "execution_count": 2,
   "metadata": {},
   "outputs": [
    {
     "name": "stderr",
     "output_type": "stream",
     "text": [
      "c:\\Users\\wware\\AppData\\Local\\anaconda3\\envs\\fake-news-predictor\\lib\\site-packages\\pandas\\core\\computation\\expressions.py:21: UserWarning: Pandas requires version '2.8.4' or newer of 'numexpr' (version '2.7.3' currently installed).\n",
      "  from pandas.core.computation.check import NUMEXPR_INSTALLED\n",
      "[nltk_data] Downloading package stopwords to\n",
      "[nltk_data]     C:\\Users\\wware\\AppData\\Roaming\\nltk_data...\n",
      "[nltk_data]   Package stopwords is already up-to-date!\n",
      "[nltk_data] Downloading package wordnet to\n",
      "[nltk_data]     C:\\Users\\wware\\AppData\\Roaming\\nltk_data...\n",
      "[nltk_data]   Package wordnet is already up-to-date!\n",
      "[nltk_data] Downloading package omw-1.4 to\n",
      "[nltk_data]     C:\\Users\\wware\\AppData\\Roaming\\nltk_data...\n",
      "[nltk_data]   Package omw-1.4 is already up-to-date!\n"
     ]
    },
    {
     "name": "stdout",
     "output_type": "stream",
     "text": [
      "running\n"
     ]
    }
   ],
   "source": [
    "import pandas as pd\n",
    "import numpy as np\n",
    "import seaborn as sns\n",
    "import matplotlib.pyplot as plt\n",
    "import re\n",
    "import nltk\n",
    "import h5py\n",
    "import os\n",
    "import pickle\n",
    "from nltk.corpus import stopwords\n",
    "from nltk.stem import WordNetLemmatizer\n",
    "from tensorflow.keras.preprocessing.text import Tokenizer\n",
    "from tensorflow.keras.preprocessing.sequence import pad_sequences\n",
    "from wordcloud import WordCloud\n",
    "from collections import Counter\n",
    "\n",
    "# Download the stopwords dataset\n",
    "nltk.download('stopwords')\n",
    "\n",
    "# Download required resources\n",
    "nltk.download('wordnet')\n",
    "nltk.download('omw-1.4')\n",
    "\n",
    "# Initialize the lemmatizer\n",
    "lemmatizer = WordNetLemmatizer()\n",
    "\n",
    "# Test the lemmatizer with a simple example\n",
    "print(lemmatizer.lemmatize('running'))  # Should output 'run'\n"
   ]
  },
  {
   "cell_type": "markdown",
   "metadata": {},
   "source": [
    "# Load Dataset"
   ]
  },
  {
   "cell_type": "code",
   "execution_count": 3,
   "metadata": {},
   "outputs": [
    {
     "data": {
      "text/html": [
       "<div>\n",
       "<style scoped>\n",
       "    .dataframe tbody tr th:only-of-type {\n",
       "        vertical-align: middle;\n",
       "    }\n",
       "\n",
       "    .dataframe tbody tr th {\n",
       "        vertical-align: top;\n",
       "    }\n",
       "\n",
       "    .dataframe thead th {\n",
       "        text-align: right;\n",
       "    }\n",
       "</style>\n",
       "<table border=\"1\" class=\"dataframe\">\n",
       "  <thead>\n",
       "    <tr style=\"text-align: right;\">\n",
       "      <th></th>\n",
       "      <th>Unnamed: 0</th>\n",
       "      <th>title</th>\n",
       "      <th>text</th>\n",
       "      <th>label</th>\n",
       "    </tr>\n",
       "  </thead>\n",
       "  <tbody>\n",
       "    <tr>\n",
       "      <th>0</th>\n",
       "      <td>0</td>\n",
       "      <td>LAW ENFORCEMENT ON HIGH ALERT Following Threat...</td>\n",
       "      <td>No comment is expected from Barack Obama Membe...</td>\n",
       "      <td>1</td>\n",
       "    </tr>\n",
       "    <tr>\n",
       "      <th>1</th>\n",
       "      <td>1</td>\n",
       "      <td>NaN</td>\n",
       "      <td>Did they post their votes for Hillary already?</td>\n",
       "      <td>1</td>\n",
       "    </tr>\n",
       "    <tr>\n",
       "      <th>2</th>\n",
       "      <td>2</td>\n",
       "      <td>UNBELIEVABLE! OBAMA’S ATTORNEY GENERAL SAYS MO...</td>\n",
       "      <td>Now, most of the demonstrators gathered last ...</td>\n",
       "      <td>1</td>\n",
       "    </tr>\n",
       "    <tr>\n",
       "      <th>3</th>\n",
       "      <td>3</td>\n",
       "      <td>Bobby Jindal, raised Hindu, uses story of Chri...</td>\n",
       "      <td>A dozen politically active pastors came here f...</td>\n",
       "      <td>0</td>\n",
       "    </tr>\n",
       "    <tr>\n",
       "      <th>4</th>\n",
       "      <td>4</td>\n",
       "      <td>SATAN 2: Russia unvelis an image of its terrif...</td>\n",
       "      <td>The RS-28 Sarmat missile, dubbed Satan 2, will...</td>\n",
       "      <td>1</td>\n",
       "    </tr>\n",
       "  </tbody>\n",
       "</table>\n",
       "</div>"
      ],
      "text/plain": [
       "   Unnamed: 0                                              title  \\\n",
       "0           0  LAW ENFORCEMENT ON HIGH ALERT Following Threat...   \n",
       "1           1                                                NaN   \n",
       "2           2  UNBELIEVABLE! OBAMA’S ATTORNEY GENERAL SAYS MO...   \n",
       "3           3  Bobby Jindal, raised Hindu, uses story of Chri...   \n",
       "4           4  SATAN 2: Russia unvelis an image of its terrif...   \n",
       "\n",
       "                                                text  label  \n",
       "0  No comment is expected from Barack Obama Membe...      1  \n",
       "1     Did they post their votes for Hillary already?      1  \n",
       "2   Now, most of the demonstrators gathered last ...      1  \n",
       "3  A dozen politically active pastors came here f...      0  \n",
       "4  The RS-28 Sarmat missile, dubbed Satan 2, will...      1  "
      ]
     },
     "execution_count": 3,
     "metadata": {},
     "output_type": "execute_result"
    }
   ],
   "source": [
    "# Load dataset\n",
    "df = pd.read_csv('../data/raw/WELFake_Dataset.csv')\n",
    "\n",
    "# Display the first few rows\n",
    "df.head()\n"
   ]
  },
  {
   "cell_type": "markdown",
   "metadata": {},
   "source": [
    "The dataset contains the following columns:\n",
    "\n",
    "- **Serial number**: An integer identifier for each news article (starting from 0).\n",
    "- **Title**: The title or headline of the news article.\n",
    "- **Text**: The main content of the news article.\n",
    "- **Label**: Indicates whether the article is real or fake:\n",
    "  - `0`: Fake news\n",
    "  - `1`: Real news\n",
    "\n",
    "The dataset provides a robust foundation for training and evaluating machine learning models aimed at detecting fake news. The labels are balanced with a nearly equal number of real and fake news articles, making it suitable for binary classification tasks.\n",
    "\n",
    "**Source**\n",
    "\n",
    "The dataset was published in the following paper:\n",
    "\n",
    "- **IEEE Transactions on Computational Social Systems**: pp. 1-13 (doi: [10.1109/TCSS.2021.3068519](https://doi.org/10.1109/TCSS.2021.3068519)).\n",
    "\n",
    "You can access the dataset on Kaggle via this [link](https://www.kaggle.com/datasets/saurabhshahane/fake-news-classification)."
   ]
  },
  {
   "cell_type": "markdown",
   "metadata": {},
   "source": [
    "# Drop Unnecessary Columns"
   ]
  },
  {
   "cell_type": "code",
   "execution_count": 3,
   "metadata": {},
   "outputs": [
    {
     "data": {
      "text/html": [
       "<div>\n",
       "<style scoped>\n",
       "    .dataframe tbody tr th:only-of-type {\n",
       "        vertical-align: middle;\n",
       "    }\n",
       "\n",
       "    .dataframe tbody tr th {\n",
       "        vertical-align: top;\n",
       "    }\n",
       "\n",
       "    .dataframe thead th {\n",
       "        text-align: right;\n",
       "    }\n",
       "</style>\n",
       "<table border=\"1\" class=\"dataframe\">\n",
       "  <thead>\n",
       "    <tr style=\"text-align: right;\">\n",
       "      <th></th>\n",
       "      <th>title</th>\n",
       "      <th>text</th>\n",
       "      <th>label</th>\n",
       "    </tr>\n",
       "  </thead>\n",
       "  <tbody>\n",
       "    <tr>\n",
       "      <th>0</th>\n",
       "      <td>LAW ENFORCEMENT ON HIGH ALERT Following Threat...</td>\n",
       "      <td>No comment is expected from Barack Obama Membe...</td>\n",
       "      <td>1</td>\n",
       "    </tr>\n",
       "    <tr>\n",
       "      <th>1</th>\n",
       "      <td>NaN</td>\n",
       "      <td>Did they post their votes for Hillary already?</td>\n",
       "      <td>1</td>\n",
       "    </tr>\n",
       "    <tr>\n",
       "      <th>2</th>\n",
       "      <td>UNBELIEVABLE! OBAMA’S ATTORNEY GENERAL SAYS MO...</td>\n",
       "      <td>Now, most of the demonstrators gathered last ...</td>\n",
       "      <td>1</td>\n",
       "    </tr>\n",
       "    <tr>\n",
       "      <th>3</th>\n",
       "      <td>Bobby Jindal, raised Hindu, uses story of Chri...</td>\n",
       "      <td>A dozen politically active pastors came here f...</td>\n",
       "      <td>0</td>\n",
       "    </tr>\n",
       "    <tr>\n",
       "      <th>4</th>\n",
       "      <td>SATAN 2: Russia unvelis an image of its terrif...</td>\n",
       "      <td>The RS-28 Sarmat missile, dubbed Satan 2, will...</td>\n",
       "      <td>1</td>\n",
       "    </tr>\n",
       "  </tbody>\n",
       "</table>\n",
       "</div>"
      ],
      "text/plain": [
       "                                               title  \\\n",
       "0  LAW ENFORCEMENT ON HIGH ALERT Following Threat...   \n",
       "1                                                NaN   \n",
       "2  UNBELIEVABLE! OBAMA’S ATTORNEY GENERAL SAYS MO...   \n",
       "3  Bobby Jindal, raised Hindu, uses story of Chri...   \n",
       "4  SATAN 2: Russia unvelis an image of its terrif...   \n",
       "\n",
       "                                                text  label  \n",
       "0  No comment is expected from Barack Obama Membe...      1  \n",
       "1     Did they post their votes for Hillary already?      1  \n",
       "2   Now, most of the demonstrators gathered last ...      1  \n",
       "3  A dozen politically active pastors came here f...      0  \n",
       "4  The RS-28 Sarmat missile, dubbed Satan 2, will...      1  "
      ]
     },
     "execution_count": 3,
     "metadata": {},
     "output_type": "execute_result"
    }
   ],
   "source": [
    "# Drop the 'Unnamed: 0' column\n",
    "df.drop(columns=['Unnamed: 0'], inplace=True)\n",
    "\n",
    "# Display the first few rows\n",
    "df.head()"
   ]
  },
  {
   "cell_type": "markdown",
   "metadata": {},
   "source": [
    "# Handling Missing Values"
   ]
  },
  {
   "cell_type": "code",
   "execution_count": 4,
   "metadata": {},
   "outputs": [
    {
     "name": "stdout",
     "output_type": "stream",
     "text": [
      "title    558\n",
      "text      39\n",
      "label      0\n",
      "dtype: int64\n"
     ]
    }
   ],
   "source": [
    "# Check for missing values in each column\n",
    "missing_values = df.isnull().sum()\n",
    "print(missing_values)\n"
   ]
  },
  {
   "cell_type": "code",
   "execution_count": 5,
   "metadata": {},
   "outputs": [
    {
     "data": {
      "text/html": [
       "<div>\n",
       "<style scoped>\n",
       "    .dataframe tbody tr th:only-of-type {\n",
       "        vertical-align: middle;\n",
       "    }\n",
       "\n",
       "    .dataframe tbody tr th {\n",
       "        vertical-align: top;\n",
       "    }\n",
       "\n",
       "    .dataframe thead th {\n",
       "        text-align: right;\n",
       "    }\n",
       "</style>\n",
       "<table border=\"1\" class=\"dataframe\">\n",
       "  <thead>\n",
       "    <tr style=\"text-align: right;\">\n",
       "      <th></th>\n",
       "      <th>title</th>\n",
       "      <th>text</th>\n",
       "      <th>label</th>\n",
       "    </tr>\n",
       "  </thead>\n",
       "  <tbody>\n",
       "    <tr>\n",
       "      <th>0</th>\n",
       "      <td>LAW ENFORCEMENT ON HIGH ALERT Following Threat...</td>\n",
       "      <td>No comment is expected from Barack Obama Membe...</td>\n",
       "      <td>1</td>\n",
       "    </tr>\n",
       "    <tr>\n",
       "      <th>1</th>\n",
       "      <td>NaN</td>\n",
       "      <td>Did they post their votes for Hillary already?</td>\n",
       "      <td>1</td>\n",
       "    </tr>\n",
       "    <tr>\n",
       "      <th>2</th>\n",
       "      <td>UNBELIEVABLE! OBAMA’S ATTORNEY GENERAL SAYS MO...</td>\n",
       "      <td>Now, most of the demonstrators gathered last ...</td>\n",
       "      <td>1</td>\n",
       "    </tr>\n",
       "    <tr>\n",
       "      <th>3</th>\n",
       "      <td>Bobby Jindal, raised Hindu, uses story of Chri...</td>\n",
       "      <td>A dozen politically active pastors came here f...</td>\n",
       "      <td>0</td>\n",
       "    </tr>\n",
       "    <tr>\n",
       "      <th>4</th>\n",
       "      <td>SATAN 2: Russia unvelis an image of its terrif...</td>\n",
       "      <td>The RS-28 Sarmat missile, dubbed Satan 2, will...</td>\n",
       "      <td>1</td>\n",
       "    </tr>\n",
       "  </tbody>\n",
       "</table>\n",
       "</div>"
      ],
      "text/plain": [
       "                                               title  \\\n",
       "0  LAW ENFORCEMENT ON HIGH ALERT Following Threat...   \n",
       "1                                                NaN   \n",
       "2  UNBELIEVABLE! OBAMA’S ATTORNEY GENERAL SAYS MO...   \n",
       "3  Bobby Jindal, raised Hindu, uses story of Chri...   \n",
       "4  SATAN 2: Russia unvelis an image of its terrif...   \n",
       "\n",
       "                                                text  label  \n",
       "0  No comment is expected from Barack Obama Membe...      1  \n",
       "1     Did they post their votes for Hillary already?      1  \n",
       "2   Now, most of the demonstrators gathered last ...      1  \n",
       "3  A dozen politically active pastors came here f...      0  \n",
       "4  The RS-28 Sarmat missile, dubbed Satan 2, will...      1  "
      ]
     },
     "execution_count": 5,
     "metadata": {},
     "output_type": "execute_result"
    }
   ],
   "source": [
    "# Drop rows with critical missing text data\n",
    "df.dropna(subset=['text'], inplace=True)\n",
    "\n",
    "df.head()\n"
   ]
  },
  {
   "cell_type": "code",
   "execution_count": 6,
   "metadata": {},
   "outputs": [
    {
     "name": "stdout",
     "output_type": "stream",
     "text": [
      "title    558\n",
      "text       0\n",
      "label      0\n",
      "dtype: int64\n"
     ]
    }
   ],
   "source": [
    "# Check for missing values in each column\n",
    "missing_values = df.isnull().sum()\n",
    "print(missing_values)"
   ]
  },
  {
   "cell_type": "code",
   "execution_count": 7,
   "metadata": {},
   "outputs": [
    {
     "name": "stderr",
     "output_type": "stream",
     "text": [
      "C:\\Users\\wware\\AppData\\Local\\Temp\\ipykernel_22004\\361475953.py:2: FutureWarning: A value is trying to be set on a copy of a DataFrame or Series through chained assignment using an inplace method.\n",
      "The behavior will change in pandas 3.0. This inplace method will never work because the intermediate object on which we are setting values always behaves as a copy.\n",
      "\n",
      "For example, when doing 'df[col].method(value, inplace=True)', try using 'df.method({col: value}, inplace=True)' or df[col] = df[col].method(value) instead, to perform the operation inplace on the original object.\n",
      "\n",
      "\n",
      "  df['title'].fillna('No Title', inplace=True)\n"
     ]
    }
   ],
   "source": [
    "# Fill missing values in 'title' column with 'No Title'\n",
    "df['title'].fillna('No Title', inplace=True)"
   ]
  },
  {
   "cell_type": "code",
   "execution_count": 8,
   "metadata": {},
   "outputs": [
    {
     "name": "stdout",
     "output_type": "stream",
     "text": [
      "title    0\n",
      "text     0\n",
      "label    0\n",
      "dtype: int64\n"
     ]
    }
   ],
   "source": [
    "# Check for missing values in each column\n",
    "missing_values = df.isnull().sum()\n",
    "print(missing_values)"
   ]
  },
  {
   "cell_type": "markdown",
   "metadata": {},
   "source": [
    "# Removing Stopwords\n",
    "\n",
    "Stopwords are common words (like \"the,\" \"is,\" \"in,\" etc.) that typically do not carry much meaning and can be removed to reduce noise in the data."
   ]
  },
  {
   "cell_type": "code",
   "execution_count": 9,
   "metadata": {},
   "outputs": [
    {
     "data": {
      "text/html": [
       "<div>\n",
       "<style scoped>\n",
       "    .dataframe tbody tr th:only-of-type {\n",
       "        vertical-align: middle;\n",
       "    }\n",
       "\n",
       "    .dataframe tbody tr th {\n",
       "        vertical-align: top;\n",
       "    }\n",
       "\n",
       "    .dataframe thead th {\n",
       "        text-align: right;\n",
       "    }\n",
       "</style>\n",
       "<table border=\"1\" class=\"dataframe\">\n",
       "  <thead>\n",
       "    <tr style=\"text-align: right;\">\n",
       "      <th></th>\n",
       "      <th>title</th>\n",
       "      <th>text</th>\n",
       "      <th>label</th>\n",
       "    </tr>\n",
       "  </thead>\n",
       "  <tbody>\n",
       "    <tr>\n",
       "      <th>0</th>\n",
       "      <td>LAW ENFORCEMENT ON HIGH ALERT Following Threat...</td>\n",
       "      <td>No comment is expected from Barack Obama Membe...</td>\n",
       "      <td>1</td>\n",
       "    </tr>\n",
       "    <tr>\n",
       "      <th>1</th>\n",
       "      <td>No Title</td>\n",
       "      <td>Did they post their votes for Hillary already?</td>\n",
       "      <td>1</td>\n",
       "    </tr>\n",
       "    <tr>\n",
       "      <th>2</th>\n",
       "      <td>UNBELIEVABLE! OBAMA’S ATTORNEY GENERAL SAYS MO...</td>\n",
       "      <td>Now, most of the demonstrators gathered last ...</td>\n",
       "      <td>1</td>\n",
       "    </tr>\n",
       "    <tr>\n",
       "      <th>3</th>\n",
       "      <td>Bobby Jindal, raised Hindu, uses story of Chri...</td>\n",
       "      <td>A dozen politically active pastors came here f...</td>\n",
       "      <td>0</td>\n",
       "    </tr>\n",
       "    <tr>\n",
       "      <th>4</th>\n",
       "      <td>SATAN 2: Russia unvelis an image of its terrif...</td>\n",
       "      <td>The RS-28 Sarmat missile, dubbed Satan 2, will...</td>\n",
       "      <td>1</td>\n",
       "    </tr>\n",
       "  </tbody>\n",
       "</table>\n",
       "</div>"
      ],
      "text/plain": [
       "                                               title  \\\n",
       "0  LAW ENFORCEMENT ON HIGH ALERT Following Threat...   \n",
       "1                                           No Title   \n",
       "2  UNBELIEVABLE! OBAMA’S ATTORNEY GENERAL SAYS MO...   \n",
       "3  Bobby Jindal, raised Hindu, uses story of Chri...   \n",
       "4  SATAN 2: Russia unvelis an image of its terrif...   \n",
       "\n",
       "                                                text  label  \n",
       "0  No comment is expected from Barack Obama Membe...      1  \n",
       "1     Did they post their votes for Hillary already?      1  \n",
       "2   Now, most of the demonstrators gathered last ...      1  \n",
       "3  A dozen politically active pastors came here f...      0  \n",
       "4  The RS-28 Sarmat missile, dubbed Satan 2, will...      1  "
      ]
     },
     "execution_count": 9,
     "metadata": {},
     "output_type": "execute_result"
    }
   ],
   "source": [
    "df.head()"
   ]
  },
  {
   "cell_type": "code",
   "execution_count": 10,
   "metadata": {},
   "outputs": [],
   "source": [
    "# Combine 'title' and 'text' into a single column called 'combined_text'\n",
    "df['combined_text'] = df['title'].fillna('') + \" \" + df['text']"
   ]
  },
  {
   "cell_type": "code",
   "execution_count": 11,
   "metadata": {},
   "outputs": [
    {
     "data": {
      "text/html": [
       "<div>\n",
       "<style scoped>\n",
       "    .dataframe tbody tr th:only-of-type {\n",
       "        vertical-align: middle;\n",
       "    }\n",
       "\n",
       "    .dataframe tbody tr th {\n",
       "        vertical-align: top;\n",
       "    }\n",
       "\n",
       "    .dataframe thead th {\n",
       "        text-align: right;\n",
       "    }\n",
       "</style>\n",
       "<table border=\"1\" class=\"dataframe\">\n",
       "  <thead>\n",
       "    <tr style=\"text-align: right;\">\n",
       "      <th></th>\n",
       "      <th>title</th>\n",
       "      <th>text</th>\n",
       "      <th>label</th>\n",
       "      <th>combined_text</th>\n",
       "    </tr>\n",
       "  </thead>\n",
       "  <tbody>\n",
       "    <tr>\n",
       "      <th>0</th>\n",
       "      <td>LAW ENFORCEMENT ON HIGH ALERT Following Threat...</td>\n",
       "      <td>No comment is expected from Barack Obama Membe...</td>\n",
       "      <td>1</td>\n",
       "      <td>LAW ENFORCEMENT ON HIGH ALERT Following Threat...</td>\n",
       "    </tr>\n",
       "    <tr>\n",
       "      <th>1</th>\n",
       "      <td>No Title</td>\n",
       "      <td>Did they post their votes for Hillary already?</td>\n",
       "      <td>1</td>\n",
       "      <td>No Title Did they post their votes for Hillary...</td>\n",
       "    </tr>\n",
       "    <tr>\n",
       "      <th>2</th>\n",
       "      <td>UNBELIEVABLE! OBAMA’S ATTORNEY GENERAL SAYS MO...</td>\n",
       "      <td>Now, most of the demonstrators gathered last ...</td>\n",
       "      <td>1</td>\n",
       "      <td>UNBELIEVABLE! OBAMA’S ATTORNEY GENERAL SAYS MO...</td>\n",
       "    </tr>\n",
       "    <tr>\n",
       "      <th>3</th>\n",
       "      <td>Bobby Jindal, raised Hindu, uses story of Chri...</td>\n",
       "      <td>A dozen politically active pastors came here f...</td>\n",
       "      <td>0</td>\n",
       "      <td>Bobby Jindal, raised Hindu, uses story of Chri...</td>\n",
       "    </tr>\n",
       "    <tr>\n",
       "      <th>4</th>\n",
       "      <td>SATAN 2: Russia unvelis an image of its terrif...</td>\n",
       "      <td>The RS-28 Sarmat missile, dubbed Satan 2, will...</td>\n",
       "      <td>1</td>\n",
       "      <td>SATAN 2: Russia unvelis an image of its terrif...</td>\n",
       "    </tr>\n",
       "  </tbody>\n",
       "</table>\n",
       "</div>"
      ],
      "text/plain": [
       "                                               title  \\\n",
       "0  LAW ENFORCEMENT ON HIGH ALERT Following Threat...   \n",
       "1                                           No Title   \n",
       "2  UNBELIEVABLE! OBAMA’S ATTORNEY GENERAL SAYS MO...   \n",
       "3  Bobby Jindal, raised Hindu, uses story of Chri...   \n",
       "4  SATAN 2: Russia unvelis an image of its terrif...   \n",
       "\n",
       "                                                text  label  \\\n",
       "0  No comment is expected from Barack Obama Membe...      1   \n",
       "1     Did they post their votes for Hillary already?      1   \n",
       "2   Now, most of the demonstrators gathered last ...      1   \n",
       "3  A dozen politically active pastors came here f...      0   \n",
       "4  The RS-28 Sarmat missile, dubbed Satan 2, will...      1   \n",
       "\n",
       "                                       combined_text  \n",
       "0  LAW ENFORCEMENT ON HIGH ALERT Following Threat...  \n",
       "1  No Title Did they post their votes for Hillary...  \n",
       "2  UNBELIEVABLE! OBAMA’S ATTORNEY GENERAL SAYS MO...  \n",
       "3  Bobby Jindal, raised Hindu, uses story of Chri...  \n",
       "4  SATAN 2: Russia unvelis an image of its terrif...  "
      ]
     },
     "execution_count": 11,
     "metadata": {},
     "output_type": "execute_result"
    }
   ],
   "source": [
    "df.head()"
   ]
  },
  {
   "cell_type": "code",
   "execution_count": 12,
   "metadata": {},
   "outputs": [
    {
     "name": "stdout",
     "output_type": "stream",
     "text": [
      "                                       combined_text  \\\n",
      "0  LAW ENFORCEMENT ON HIGH ALERT Following Threat...   \n",
      "1  No Title Did they post their votes for Hillary...   \n",
      "2  UNBELIEVABLE! OBAMA’S ATTORNEY GENERAL SAYS MO...   \n",
      "3  Bobby Jindal, raised Hindu, uses story of Chri...   \n",
      "4  SATAN 2: Russia unvelis an image of its terrif...   \n",
      "\n",
      "                                        cleaned_text  \n",
      "0  LAW ENFORCEMENT HIGH ALERT Following Threats C...  \n",
      "1                  Title post votes Hillary already?  \n",
      "2  UNBELIEVABLE! OBAMA’S ATTORNEY GENERAL SAYS CH...  \n",
      "3  Bobby Jindal, raised Hindu, uses story Christi...  \n",
      "4  SATAN 2: Russia unvelis image terrifying new ‘...  \n"
     ]
    }
   ],
   "source": [
    "# Set of English stopwords\n",
    "stop_words = set(stopwords.words('english'))\n",
    "\n",
    "def remove_stopwords(text):\n",
    "    # Tokenize the text by splitting on whitespace\n",
    "    word_tokens = text.split()\n",
    "    \n",
    "    # Filter out the stopwords\n",
    "    filtered_text = [word for word in word_tokens if word.lower() not in stop_words]\n",
    "    \n",
    "    # Join the filtered words back into a string\n",
    "    return ' '.join(filtered_text)\n",
    "\n",
    "# Apply the function to the 'combined_text' column\n",
    "df['cleaned_text'] = df['combined_text'].apply(remove_stopwords)\n",
    "\n",
    "# Display a few examples to verify the result\n",
    "print(df[['combined_text', 'cleaned_text']].head())\n"
   ]
  },
  {
   "cell_type": "markdown",
   "metadata": {},
   "source": [
    "# Removing Numerics and Special Characters\n",
    "\n",
    "Removing any numbers and special characters that do not contribute to the meaning of the text."
   ]
  },
  {
   "cell_type": "code",
   "execution_count": 13,
   "metadata": {},
   "outputs": [
    {
     "data": {
      "text/html": [
       "<div>\n",
       "<style scoped>\n",
       "    .dataframe tbody tr th:only-of-type {\n",
       "        vertical-align: middle;\n",
       "    }\n",
       "\n",
       "    .dataframe tbody tr th {\n",
       "        vertical-align: top;\n",
       "    }\n",
       "\n",
       "    .dataframe thead th {\n",
       "        text-align: right;\n",
       "    }\n",
       "</style>\n",
       "<table border=\"1\" class=\"dataframe\">\n",
       "  <thead>\n",
       "    <tr style=\"text-align: right;\">\n",
       "      <th></th>\n",
       "      <th>title</th>\n",
       "      <th>text</th>\n",
       "      <th>label</th>\n",
       "      <th>combined_text</th>\n",
       "      <th>cleaned_text</th>\n",
       "    </tr>\n",
       "  </thead>\n",
       "  <tbody>\n",
       "    <tr>\n",
       "      <th>0</th>\n",
       "      <td>LAW ENFORCEMENT ON HIGH ALERT Following Threat...</td>\n",
       "      <td>No comment is expected from Barack Obama Membe...</td>\n",
       "      <td>1</td>\n",
       "      <td>LAW ENFORCEMENT ON HIGH ALERT Following Threat...</td>\n",
       "      <td>LAW ENFORCEMENT HIGH ALERT Following Threats C...</td>\n",
       "    </tr>\n",
       "    <tr>\n",
       "      <th>1</th>\n",
       "      <td>No Title</td>\n",
       "      <td>Did they post their votes for Hillary already?</td>\n",
       "      <td>1</td>\n",
       "      <td>No Title Did they post their votes for Hillary...</td>\n",
       "      <td>Title post votes Hillary already?</td>\n",
       "    </tr>\n",
       "    <tr>\n",
       "      <th>2</th>\n",
       "      <td>UNBELIEVABLE! OBAMA’S ATTORNEY GENERAL SAYS MO...</td>\n",
       "      <td>Now, most of the demonstrators gathered last ...</td>\n",
       "      <td>1</td>\n",
       "      <td>UNBELIEVABLE! OBAMA’S ATTORNEY GENERAL SAYS MO...</td>\n",
       "      <td>UNBELIEVABLE! OBAMA’S ATTORNEY GENERAL SAYS CH...</td>\n",
       "    </tr>\n",
       "    <tr>\n",
       "      <th>3</th>\n",
       "      <td>Bobby Jindal, raised Hindu, uses story of Chri...</td>\n",
       "      <td>A dozen politically active pastors came here f...</td>\n",
       "      <td>0</td>\n",
       "      <td>Bobby Jindal, raised Hindu, uses story of Chri...</td>\n",
       "      <td>Bobby Jindal, raised Hindu, uses story Christi...</td>\n",
       "    </tr>\n",
       "    <tr>\n",
       "      <th>4</th>\n",
       "      <td>SATAN 2: Russia unvelis an image of its terrif...</td>\n",
       "      <td>The RS-28 Sarmat missile, dubbed Satan 2, will...</td>\n",
       "      <td>1</td>\n",
       "      <td>SATAN 2: Russia unvelis an image of its terrif...</td>\n",
       "      <td>SATAN 2: Russia unvelis image terrifying new ‘...</td>\n",
       "    </tr>\n",
       "  </tbody>\n",
       "</table>\n",
       "</div>"
      ],
      "text/plain": [
       "                                               title  \\\n",
       "0  LAW ENFORCEMENT ON HIGH ALERT Following Threat...   \n",
       "1                                           No Title   \n",
       "2  UNBELIEVABLE! OBAMA’S ATTORNEY GENERAL SAYS MO...   \n",
       "3  Bobby Jindal, raised Hindu, uses story of Chri...   \n",
       "4  SATAN 2: Russia unvelis an image of its terrif...   \n",
       "\n",
       "                                                text  label  \\\n",
       "0  No comment is expected from Barack Obama Membe...      1   \n",
       "1     Did they post their votes for Hillary already?      1   \n",
       "2   Now, most of the demonstrators gathered last ...      1   \n",
       "3  A dozen politically active pastors came here f...      0   \n",
       "4  The RS-28 Sarmat missile, dubbed Satan 2, will...      1   \n",
       "\n",
       "                                       combined_text  \\\n",
       "0  LAW ENFORCEMENT ON HIGH ALERT Following Threat...   \n",
       "1  No Title Did they post their votes for Hillary...   \n",
       "2  UNBELIEVABLE! OBAMA’S ATTORNEY GENERAL SAYS MO...   \n",
       "3  Bobby Jindal, raised Hindu, uses story of Chri...   \n",
       "4  SATAN 2: Russia unvelis an image of its terrif...   \n",
       "\n",
       "                                        cleaned_text  \n",
       "0  LAW ENFORCEMENT HIGH ALERT Following Threats C...  \n",
       "1                  Title post votes Hillary already?  \n",
       "2  UNBELIEVABLE! OBAMA’S ATTORNEY GENERAL SAYS CH...  \n",
       "3  Bobby Jindal, raised Hindu, uses story Christi...  \n",
       "4  SATAN 2: Russia unvelis image terrifying new ‘...  "
      ]
     },
     "execution_count": 13,
     "metadata": {},
     "output_type": "execute_result"
    }
   ],
   "source": [
    "df.head()"
   ]
  },
  {
   "cell_type": "code",
   "execution_count": 14,
   "metadata": {},
   "outputs": [
    {
     "name": "stdout",
     "output_type": "stream",
     "text": [
      "                                       combined_text  \\\n",
      "0  LAW ENFORCEMENT ON HIGH ALERT Following Threat...   \n",
      "1  No Title Did they post their votes for Hillary...   \n",
      "2  UNBELIEVABLE! OBAMA’S ATTORNEY GENERAL SAYS MO...   \n",
      "3  Bobby Jindal, raised Hindu, uses story of Chri...   \n",
      "4  SATAN 2: Russia unvelis an image of its terrif...   \n",
      "\n",
      "                                        cleaned_text  \n",
      "0  LAW ENFORCEMENT HIGH ALERT Following Threats C...  \n",
      "1                   Title post votes Hillary already  \n",
      "2  UNBELIEVABLE OBAMAS ATTORNEY GENERAL SAYS CHAR...  \n",
      "3  Bobby Jindal raised Hindu uses story Christian...  \n",
      "4  SATAN Russia unvelis image terrifying new SUPE...  \n"
     ]
    }
   ],
   "source": [
    "def clean_text(text):\n",
    "    # Remove special characters and numerics using regex\n",
    "    text = re.sub(r'[^A-Za-z\\s]', '', text)\n",
    "    \n",
    "    # Remove extra spaces\n",
    "    text = re.sub(r'\\s+', ' ', text).strip()\n",
    "    \n",
    "    return text\n",
    "\n",
    "# Apply the cleaning function to the 'cleaned_text' column\n",
    "df['cleaned_text'] = df['cleaned_text'].apply(clean_text)\n",
    "\n",
    "# Display a few examples to verify the result\n",
    "print(df[['combined_text', 'cleaned_text']].head())\n"
   ]
  },
  {
   "cell_type": "markdown",
   "metadata": {},
   "source": [
    "# Case Folding (Lowercasing)\n",
    "\n",
    "Uniform casing ensures consistency, which is essential for text processing. Let's convert all the text to lowercase."
   ]
  },
  {
   "cell_type": "code",
   "execution_count": 15,
   "metadata": {},
   "outputs": [
    {
     "name": "stdout",
     "output_type": "stream",
     "text": [
      "                                       combined_text  \\\n",
      "0  LAW ENFORCEMENT ON HIGH ALERT Following Threat...   \n",
      "1  No Title Did they post their votes for Hillary...   \n",
      "2  UNBELIEVABLE! OBAMA’S ATTORNEY GENERAL SAYS MO...   \n",
      "3  Bobby Jindal, raised Hindu, uses story of Chri...   \n",
      "4  SATAN 2: Russia unvelis an image of its terrif...   \n",
      "\n",
      "                                        cleaned_text  \n",
      "0  law enforcement high alert following threats c...  \n",
      "1                   title post votes hillary already  \n",
      "2  unbelievable obamas attorney general says char...  \n",
      "3  bobby jindal raised hindu uses story christian...  \n",
      "4  satan russia unvelis image terrifying new supe...  \n"
     ]
    }
   ],
   "source": [
    "# Convert all text to lowercase\n",
    "df['cleaned_text'] = df['cleaned_text'].str.lower()\n",
    "\n",
    "# Display a few examples to verify the result\n",
    "print(df[['combined_text', 'cleaned_text']].head())\n"
   ]
  },
  {
   "cell_type": "markdown",
   "metadata": {},
   "source": [
    "# Lemmatisation\n",
    "\n",
    "Lemmatisation helps reduce words to their base form (e.g., \"running\" to \"run\"). NLTK’s WordNetLemmatizer is used for this."
   ]
  },
  {
   "cell_type": "code",
   "execution_count": 16,
   "metadata": {},
   "outputs": [
    {
     "name": "stdout",
     "output_type": "stream",
     "text": [
      "                                       combined_text  \\\n",
      "0  LAW ENFORCEMENT ON HIGH ALERT Following Threat...   \n",
      "1  No Title Did they post their votes for Hillary...   \n",
      "2  UNBELIEVABLE! OBAMA’S ATTORNEY GENERAL SAYS MO...   \n",
      "3  Bobby Jindal, raised Hindu, uses story of Chri...   \n",
      "4  SATAN 2: Russia unvelis an image of its terrif...   \n",
      "\n",
      "                                        cleaned_text  \n",
      "0  law enforcement high alert following threat co...  \n",
      "1                    title post vote hillary already  \n",
      "2  unbelievable obamas attorney general say charl...  \n",
      "3  bobby jindal raised hindu us story christian c...  \n",
      "4  satan russia unvelis image terrifying new supe...  \n"
     ]
    }
   ],
   "source": [
    "# Initialize the lemmatizer\n",
    "lemmatizer = WordNetLemmatizer()\n",
    "\n",
    "def lemmatize_text(text):\n",
    "    # Lemmatize each word in the text\n",
    "    lemmatized_text = ' '.join([lemmatizer.lemmatize(word) for word in text.split()])\n",
    "    return lemmatized_text\n",
    "\n",
    "# Apply the lemmatization function to the 'cleaned_text' column\n",
    "df['cleaned_text'] = df['cleaned_text'].apply(lemmatize_text)\n",
    "\n",
    "# Display a few examples to verify the result\n",
    "print(df[['combined_text', 'cleaned_text']].head())\n"
   ]
  },
  {
   "cell_type": "markdown",
   "metadata": {},
   "source": [
    "# Tokenisation and Padding\n",
    "\n",
    "The next step is to tokenise the text and pad the sequences. Tokenisation converts text into sequences of integers where each integer corresponds to a specific word in the text. Padding ensures that all sequences have the same length, which is necessary for feeding the data into most machine learning models."
   ]
  },
  {
   "cell_type": "code",
   "execution_count": 17,
   "metadata": {},
   "outputs": [
    {
     "name": "stdout",
     "output_type": "stream",
     "text": [
      "Total unique words in the dataset: 321132\n"
     ]
    }
   ],
   "source": [
    "# Examine the Vocabulary Size\n",
    "\n",
    "# Initialize the tokenizer without limiting the number of words\n",
    "tokenizer = Tokenizer()\n",
    "\n",
    "# Fit the tokenizer on the cleaned text data\n",
    "tokenizer.fit_on_texts(df['cleaned_text'])\n",
    "\n",
    "# Get the total number of unique words\n",
    "total_unique_words = len(tokenizer.word_index)\n",
    "print(f\"Total unique words in the dataset: {total_unique_words}\")"
   ]
  },
  {
   "cell_type": "code",
   "execution_count": 19,
   "metadata": {},
   "outputs": [
    {
     "name": "stdout",
     "output_type": "stream",
     "text": [
      "Number of words covering 90% of the dataset: 9869\n",
      "Number of words covering 95% of the dataset: 21669\n"
     ]
    },
    {
     "data": {
      "image/png": "[encoded data removed]",
      "text/plain": [
       "<Figure size 640x480 with 1 Axes>"
      ]
     },
     "metadata": {},
     "output_type": "display_data"
    }
   ],
   "source": [
    "# Get the word index (word -> integer mapping)\n",
    "word_index = tokenizer.word_index\n",
    "\n",
    "# Get the word counts (how many times each word appears)\n",
    "word_counts = tokenizer.word_counts\n",
    "\n",
    "# Sort words by frequency\n",
    "sorted_word_counts = sorted(word_counts.items(), key=lambda x: x[1], reverse=True)\n",
    "\n",
    "# Calculate the cumulative coverage\n",
    "cumulative_coverage = []\n",
    "cumulative_count = 0\n",
    "total_word_count = sum(word_counts.values())\n",
    "\n",
    "for word, count in sorted_word_counts:\n",
    "    cumulative_count += count\n",
    "    cumulative_coverage.append(cumulative_count / total_word_count)\n",
    "\n",
    "# Calculate num_words for 90% and 95% coverage\n",
    "coverage_90 = next(i for i, coverage in enumerate(cumulative_coverage) if coverage >= 0.90) + 1\n",
    "coverage_95 = next(i for i, coverage in enumerate(cumulative_coverage) if coverage >= 0.95) + 1\n",
    "\n",
    "print(f\"Number of words covering 90% of the dataset: {coverage_90}\")\n",
    "print(f\"Number of words covering 95% of the dataset: {coverage_95}\")\n",
    "\n",
    "# Plot the cumulative coverage\n",
    "import matplotlib.pyplot as plt\n",
    "\n",
    "plt.plot(cumulative_coverage)\n",
    "plt.xlabel(\"Number of words\")\n",
    "plt.ylabel(\"Cumulative coverage\")\n",
    "plt.title(\"Cumulative Word Coverage\")\n",
    "plt.axvline(x=coverage_90, color='r', linestyle='--', label=f'90% coverage ({coverage_90} words)')\n",
    "plt.axvline(x=coverage_95, color='g', linestyle='--', label=f'95% coverage ({coverage_95} words)')\n",
    "plt.legend()\n",
    "plt.show()\n",
    "\n"
   ]
  },
  {
   "cell_type": "markdown",
   "metadata": {},
   "source": [
    "Using the cumulative coverage plot to choose a num_words value that balances vocabulary size and coverage. For this dataset I have selected `21,669` words that cover 95% of the dataset."
   ]
  },
  {
   "cell_type": "code",
   "execution_count": 20,
   "metadata": {},
   "outputs": [
    {
     "name": "stdout",
     "output_type": "stream",
     "text": [
      "[[46, 642, 324, 3295, 435, 347, 1470, 35, 2715, 8658, 1, 362, 82, 161, 492, 447, 25, 99, 1, 1, 8658, 547, 115, 12055, 4595, 35, 7, 1470, 2993, 300, 982, 103, 181, 284, 463, 5865, 1135, 35, 7, 1470, 1161, 432, 843, 131, 7, 1, 1, 2893, 115, 10100, 982, 2575, 103, 3214, 497, 115, 10100, 13878, 787, 982, 103, 9678, 1, 1, 187, 731, 1111, 103, 2970, 220, 133, 269, 1, 2172, 390, 5467, 5925, 35, 9678, 187, 982, 133, 4630, 1, 982, 103, 5223, 1111, 972, 894, 1, 103, 3544, 867, 133, 12055, 843, 35, 1, 823, 3019, 982, 103, 829, 310, 1072, 486, 497, 453, 6, 18, 2145, 1, 212, 626, 307, 347, 287, 11825, 1, 522, 1, 5528, 131, 152, 2, 705, 1, 2113, 428, 13878, 568, 18, 4, 3403, 1, 1, 9, 4, 481, 2341, 568, 2, 619, 212, 2341, 1915, 2809, 609, 947, 131, 705, 1, 77, 35, 329, 2094, 4169, 260, 463, 1667, 12349, 1470, 660, 1553, 7, 5, 1361, 8515, 9, 30, 84, 6, 837, 1, 1739, 180, 74, 1, 55, 428, 1, 568, 212, 472, 345, 10879, 247, 1153, 10100, 22, 829, 140, 13879, 600, 14020, 600, 2, 83, 463, 1667, 221, 929, 472, 564, 310, 2159, 83, 253, 3878, 1, 2, 1924, 720, 1282, 18, 19, 1924, 397, 371, 74, 716, 223, 10879, 2809, 2, 555, 191, 78, 11430, 720, 463, 1667, 1, 2, 48, 428, 1, 18, 1, 34, 3192, 1, 343, 408, 8952, 843, 131, 7, 131, 108, 229, 705, 1, 247, 41, 229, 221, 291, 705, 1, 1192, 4217, 4169, 13448, 4212, 4171, 2755, 59, 1061, 1161, 705, 1, 83, 9, 535, 7, 428, 1, 463, 1667, 720, 2, 2, 428, 17033, 701, 2, 9, 35, 329, 5963, 1, 428, 17033, 701, 716, 131, 7, 128, 1539, 2134, 2, 42, 1, 110, 131, 152, 838, 140, 733, 1135, 1470, 843, 4, 33, 131, 1822, 2, 331, 2483, 37, 169, 486, 497, 996, 231, 10100, 2471, 688, 35, 7, 8804, 7637, 9, 522, 133, 4908, 422, 707, 156, 9, 1, 849, 742, 660, 2377, 2185, 1, 1, 547, 220, 1872, 43, 849, 8804, 1266, 747, 522, 133, 55, 1692, 4903, 3760, 652, 13878, 1037, 6704, 8131, 6388, 5963, 2755, 486, 497, 996, 6967, 10100, 10211, 12407, 413, 1, 604, 1503, 497, 2, 35, 7, 345, 43, 736, 4764, 77, 1, 2757, 306, 217, 9, 821, 11299, 2, 413, 13880, 1, 2972, 10211, 12407, 1, 2757, 18, 511, 1, 131, 1211, 19, 1028, 5655, 126, 317, 1179, 362, 96, 748, 501, 3085, 39, 231, 486, 497, 222, 739, 187, 2135, 547, 1, 737, 3329, 9, 306, 2893, 2, 2018, 82, 220, 3533, 3029, 5925, 11094, 1102, 35, 4992, 18, 20, 985, 723, 985, 66, 4108, 6714, 6668, 5398, 1, 1, 1, 1, 747, 137, 438, 1, 1679, 178, 11300, 5345, 747, 30, 767, 9, 936, 4456, 767, 131, 152, 13808, 6182, 8194, 20, 1, 639, 176, 486, 38], [1742, 211, 58, 32, 212], [5496, 556, 392, 157, 19, 4635, 7209, 2089, 1, 158, 5, 129, 878, 82, 269, 4228, 2401, 40, 284, 6881, 1516, 2480, 37, 2089, 413, 149, 941, 118, 863, 123, 3685, 2094, 6207, 1689, 2693, 8953], [7692, 9999, 899, 5739, 1916, 176, 684, 8439, 10962, 6606, 665, 1524, 935, 1753, 1843, 3082, 245, 383, 1823, 195, 284, 1063, 8439, 176, 3051, 2612, 98, 466, 3274, 1723, 7692, 9999, 3215, 1, 9828, 4555, 340, 1466, 610, 133, 4917, 1938, 30, 386, 9999, 2589, 674, 803, 324, 175, 531, 1394, 2991, 1773, 3390, 7534, 768, 6, 77, 1398, 6646, 1593, 1346, 403, 13, 8419, 2549, 2081, 105, 1957, 1957, 452, 9999, 43, 3082, 188, 617, 798, 916, 4574, 1, 751, 684, 13449, 351, 9267, 360, 98, 4275, 5, 1238, 265, 878, 97, 14021, 196, 3274, 423, 291, 52, 835, 22, 137, 10620, 215, 10000, 17, 107, 1029, 296, 35, 24, 334, 418, 2344, 1209, 17714, 80, 118, 201, 289, 9999, 6882, 3673, 3023, 11048, 1868, 1309, 275, 1824, 2868, 734, 220, 137, 1378, 8037, 507, 158, 5, 1, 852, 815, 48, 2449, 868, 97, 418, 3117, 1960, 852, 182, 34, 242, 291, 1944, 207, 17, 13809, 98, 332, 665, 418, 107, 19450, 4917, 835, 104, 1017, 3509, 534, 11339, 1082, 434, 10439, 2212, 1723, 950, 953, 1065, 1, 10041, 1143, 6606, 158, 1572, 275, 2775, 180, 5299, 4291, 15601, 9999, 774, 41, 1291, 1337, 1823, 3082, 1903, 1, 133, 210, 692, 684, 182, 2401, 1572, 8983, 2432, 674, 1540, 1, 2, 8, 556, 373, 2136, 852, 1572, 3082, 245, 675, 9999, 2, 6968, 4124, 815, 1724, 481, 266, 2521, 59, 5437, 221, 2, 7330, 7345, 3785, 1323, 684, 793, 1, 1238, 7345, 824, 57, 3342, 423, 950, 4269, 1219, 27, 1131, 1238, 110, 4269, 11877, 5299, 906, 5224, 5225, 327, 6089, 793, 1, 7460, 2, 1, 1563, 684, 761, 5543, 176, 163, 732, 6310, 4269, 6089, 7397, 1986, 466, 2916, 3082, 4131, 1, 1065, 4008, 20, 8172, 552, 17154, 2615, 45, 7119, 4917, 684, 2635, 5986, 4546, 125, 3203, 16798, 1378, 193, 1699, 3082, 4588, 5709, 45, 1754, 718, 4261, 1310, 3082, 559, 1753, 346, 5, 1238, 3142, 1182, 265, 878, 523, 1050, 461, 534, 300, 1029, 41, 13285, 4917, 734, 45, 4261, 2415, 1, 860, 28, 1, 1577, 190, 1754, 20, 120, 1272, 1829, 4917, 734, 45, 808, 559, 684, 982, 1222, 3082, 4261, 335, 785, 1, 724, 9999, 2, 2276, 321, 545, 2956, 766, 1321, 6072, 7922, 11049, 5237, 7978, 1, 120, 1558, 1833, 9679, 914, 60, 1066, 213, 16563, 1494, 1167, 1, 576, 9999, 2305, 1224, 1084, 3683, 8983, 692, 537, 202, 619, 5007, 1062, 485, 1, 728, 833, 1, 1, 24, 5185, 766, 3421, 40, 54, 2943, 653, 1175, 5801, 3476, 1329, 109, 63, 792, 4635, 7752, 2848, 718, 1, 1572, 3023, 2050, 7784, 383, 3517, 9999, 115, 210, 110, 3220, 8132, 3268, 558, 746, 638, 5801, 17, 36, 792, 408, 11137, 103, 1, 6, 643, 342, 941, 9999, 2, 1572, 801, 7315, 1757, 10621, 3168, 6149, 1268, 2564, 1676, 381, 738, 2824, 710, 636, 820, 1076, 11558, 1350, 1716, 289, 228, 99, 120, 3845, 10621, 3168, 253, 2364, 34, 852, 182, 2, 7487, 1297, 145, 885, 1259, 1841, 233, 997, 1996, 1402, 33, 1088, 37, 852, 588, 120, 1149, 1835, 3120, 5256, 2504, 1519, 78, 2127, 1316, 2025, 3440, 305, 13, 3550, 29, 5370, 7097, 3816, 9999, 43, 1572, 3023, 1356, 229, 25, 101, 3082, 245, 77, 9999, 210, 423, 176, 2997, 1065, 34, 48, 2244, 12294, 8, 734, 724, 1, 9999, 1246, 305, 91, 768, 1571, 5056, 5882, 561, 1793, 1450, 1216, 297, 7692, 438, 1157, 8105, 297, 1612, 1944, 904, 103, 68, 3960, 3403, 198, 253, 684, 43, 3082, 87, 9, 581, 9188, 20964, 408, 2, 657, 3054, 990, 498, 4469, 7066, 14, 9999, 2589, 3541, 363, 4645, 175, 608, 3390, 297, 13023, 1042, 992, 2343, 1064, 1957, 2200, 1, 2739, 9999, 43, 3082, 1301, 49, 6, 1584, 128, 174, 3390, 544, 51, 42, 9, 283, 1250, 2589, 1293, 14, 340, 1042, 1, 1324, 2527, 223, 278, 533, 16, 852, 805, 1136, 974, 1299, 4742, 13, 324, 175, 43, 1823, 1248, 531, 830, 952, 803, 1439, 8744, 955, 660, 674, 1540, 798, 518, 1041, 803, 2415, 576, 793, 9999, 2, 3949, 264, 2150, 1, 263, 60, 803, 363, 660, 1773, 3390, 7534, 158, 105, 8352, 768, 6, 5422, 2, 8615, 581, 729, 3631, 8419, 2081, 852, 1346, 3390, 2783, 2455, 1133, 7565, 274, 9999, 43, 3082, 9999, 17289, 4384, 8439, 1, 13, 252, 569, 2, 16430, 2351, 793, 5093, 3897, 8983, 692, 2374, 2659, 105, 331, 780, 4917, 1938, 1209, 1274, 9492, 48, 478, 761, 684, 182, 105, 442, 302, 2549, 3631, 3362, 600, 9999, 43, 3023, 537, 1970, 320, 2801, 5637, 8439, 379, 284, 3082, 105, 171, 56, 200, 798, 238, 3363, 19, 200, 511], [6981, 71, 1, 148, 5529, 10, 1, 661, 49, 59, 2005, 1739, 19797, 613, 5530, 6981, 1501, 180, 2554, 1156, 3569, 1067, 4712, 1685, 1156, 3569, 429, 3866, 97, 1426, 2164, 71, 22, 2079, 6097, 1, 14, 882, 14316, 1155, 1618, 9299, 18316, 19121, 1, 19993, 1, 71, 4743, 6846, 1061, 925, 319, 273, 613, 2692, 3316, 286, 2056, 876, 1739, 19797, 613, 5530, 6981, 930, 215, 2825, 1156, 3569, 1067, 327, 1502, 1, 10254, 3570, 159, 10, 19797, 613, 22, 2079, 6097, 1, 14, 882, 14316, 1155, 1618, 9299, 18316, 8549, 82, 116, 8, 1433, 440, 1508, 1520, 1501, 23, 2229, 180, 6981, 429, 10, 613, 1558, 3334, 236, 4678, 562, 2149, 2956, 1431, 562, 1440, 833, 1, 9773, 700, 4, 1441, 1061, 1175, 872, 257, 4875, 1, 3284, 2735, 1499, 432, 747, 2702, 1061, 2, 416, 6647, 4641, 116, 21, 732, 5, 361, 149, 1520, 1016, 1, 3284, 2735, 1499, 5580, 428, 2735, 853, 85, 19797, 1739, 19797, 613, 2, 3080, 273, 6097, 2692, 3316, 286, 2056, 876, 497, 93, 116, 38, 559, 1, 2298, 71, 887, 3497, 429, 15, 414, 9219, 4416, 492, 1685, 1156, 3569, 6, 649, 854, 96, 890, 639, 410, 2032, 1086]]\n"
     ]
    }
   ],
   "source": [
    "# 1. Tokenise the text\n",
    "# Initialise the tokeniser\n",
    "tokenizer = Tokenizer(num_words=int(coverage_95), oov_token='<OOV>')  # Adjust num_words based on your dataset size\n",
    "\n",
    "# Fit the tokeniser on the cleaned text data\n",
    "tokenizer.fit_on_texts(df['cleaned_text'])\n",
    "\n",
    "# Convert the cleaned text to sequences\n",
    "sequences = tokenizer.texts_to_sequences(df['cleaned_text'])\n",
    "\n",
    "# Check the first few sequences to ensure tokenisation is working correctly\n",
    "print(sequences[:5])"
   ]
  },
  {
   "cell_type": "code",
   "execution_count": 21,
   "metadata": {},
   "outputs": [
    {
     "name": "stdout",
     "output_type": "stream",
     "text": [
      "90th percentile max_sequence_length set to: 642\n",
      "95th percentile max_sequence_length set to: 818\n",
      "First padded sequence: [   46   642   324  3295   435   347  1470    35  2715  8658     1   362\n",
      "    82   161   492   447    25    99     1     1  8658   547   115 12055\n",
      "  4595    35     7  1470  2993   300   982   103   181   284   463  5865\n",
      "  1135    35     7  1470  1161   432   843   131     7     1     1  2893\n",
      "   115 10100   982  2575   103  3214   497   115 10100 13878   787   982\n",
      "   103  9678     1     1   187   731  1111   103  2970   220   133   269\n",
      "     1  2172   390  5467  5925    35  9678   187   982   133  4630     1\n",
      "   982   103  5223  1111   972   894     1   103  3544   867   133 12055\n",
      "   843    35     1   823  3019   982   103   829   310  1072   486   497\n",
      "   453     6    18  2145     1   212   626   307   347   287 11825     1\n",
      "   522     1  5528   131   152     2   705     1  2113   428 13878   568\n",
      "    18     4  3403     1     1     9     4   481  2341   568     2   619\n",
      "   212  2341  1915  2809   609   947   131   705     1    77    35   329\n",
      "  2094  4169   260   463  1667 12349  1470   660  1553     7     5  1361\n",
      "  8515     9    30    84     6   837     1  1739   180    74     1    55\n",
      "   428     1   568   212   472   345 10879   247  1153 10100    22   829\n",
      "   140 13879   600 14020   600     2    83   463  1667   221   929   472\n",
      "   564   310  2159    83   253  3878     1     2  1924   720  1282    18\n",
      "    19  1924   397   371    74   716   223 10879  2809     2   555   191\n",
      "    78 11430   720   463  1667     1     2    48   428     1    18     1\n",
      "    34  3192     1   343   408  8952   843   131     7   131   108   229\n",
      "   705     1   247    41   229   221   291   705     1  1192  4217  4169\n",
      " 13448  4212  4171  2755    59  1061  1161   705     1    83     9   535\n",
      "     7   428     1   463  1667   720     2     2   428 17033   701     2\n",
      "     9    35   329  5963     1   428 17033   701   716   131     7   128\n",
      "  1539  2134     2    42     1   110   131   152   838   140   733  1135\n",
      "  1470   843     4    33   131  1822     2   331  2483    37   169   486\n",
      "   497   996   231 10100  2471   688    35     7  8804  7637     9   522\n",
      "   133  4908   422   707   156     9     1   849   742   660  2377  2185\n",
      "     1     1   547   220  1872    43   849  8804  1266   747   522   133\n",
      "    55  1692  4903  3760   652 13878  1037  6704  8131  6388  5963  2755\n",
      "   486   497   996  6967 10100 10211 12407   413     1   604  1503   497\n",
      "     2    35     7   345    43   736  4764    77     1  2757   306   217\n",
      "     9   821 11299     2   413 13880     1  2972 10211 12407     1  2757\n",
      "    18   511     1   131  1211    19  1028  5655   126   317  1179   362\n",
      "    96   748   501  3085    39   231   486   497   222   739   187  2135\n",
      "   547     1   737  3329     9   306  2893     2  2018    82   220  3533\n",
      "  3029  5925 11094  1102    35  4992    18    20   985   723   985    66\n",
      "  4108  6714  6668  5398     1     1     1     1   747   137   438     1\n",
      "  1679   178 11300  5345   747    30   767     9   936  4456   767   131\n",
      "   152 13808  6182  8194    20     1   639   176   486    38     0     0\n",
      "     0     0     0     0     0     0     0     0     0     0     0     0\n",
      "     0     0     0     0     0     0     0     0     0     0     0     0\n",
      "     0     0     0     0     0     0     0     0     0     0     0     0\n",
      "     0     0     0     0     0     0     0     0     0     0     0     0\n",
      "     0     0     0     0     0     0     0     0     0     0     0     0\n",
      "     0     0     0     0     0     0     0     0     0     0     0     0\n",
      "     0     0     0     0     0     0     0     0     0     0     0     0\n",
      "     0     0     0     0     0     0     0     0     0     0     0     0\n",
      "     0     0     0     0     0     0     0     0     0     0     0     0\n",
      "     0     0     0     0     0     0     0     0     0     0     0     0\n",
      "     0     0     0     0     0     0     0     0     0     0     0     0\n",
      "     0     0     0     0     0     0     0     0     0     0     0     0\n",
      "     0     0     0     0     0     0     0     0     0     0     0     0\n",
      "     0     0     0     0     0     0     0     0     0     0     0     0\n",
      "     0     0     0     0     0     0     0     0     0     0     0     0\n",
      "     0     0     0     0     0     0     0     0     0     0     0     0\n",
      "     0     0     0     0     0     0     0     0     0     0     0     0\n",
      "     0     0     0     0     0     0     0     0     0     0     0     0\n",
      "     0     0     0     0     0     0     0     0     0     0     0     0\n",
      "     0     0     0     0     0     0     0     0     0     0     0     0\n",
      "     0     0     0     0     0     0     0     0     0     0     0     0\n",
      "     0     0     0     0     0     0     0     0     0     0     0     0\n",
      "     0     0     0     0     0     0     0     0     0     0     0     0\n",
      "     0     0     0     0     0     0     0     0     0     0     0     0\n",
      "     0     0     0     0     0     0     0     0     0     0     0     0\n",
      "     0     0     0     0     0     0     0     0     0     0     0     0\n",
      "     0     0     0     0     0     0     0     0     0     0     0     0\n",
      "     0     0]\n",
      "Shape of padded_sequences: (72095, 818)\n"
     ]
    },
    {
     "data": {
      "image/png": "[encoded data removed]",
      "text/plain": [
       "<Figure size 1000x600 with 1 Axes>"
      ]
     },
     "metadata": {},
     "output_type": "display_data"
    }
   ],
   "source": [
    "sequences = tokenizer.texts_to_sequences(df['cleaned_text'])\n",
    "\n",
    "# Calculate the lengths of all sequences\n",
    "sequence_lengths = [len(seq) for seq in sequences]\n",
    "\n",
    "# Determine the 90th and 95th percentiles\n",
    "percentile_90 = int(np.percentile(sequence_lengths, 90))\n",
    "percentile_95 = int(np.percentile(sequence_lengths, 95))\n",
    "\n",
    "# Print the chosen max_sequence_lengths\n",
    "print(f\"90th percentile max_sequence_length set to: {percentile_90}\")\n",
    "print(f\"95th percentile max_sequence_length set to: {percentile_95}\")\n",
    "\n",
    "# Pad the sequences to the 95th percentile length\n",
    "padded_sequences = pad_sequences(sequences, maxlen=percentile_95, padding='post', truncating='post')\n",
    "\n",
    "# Verify the padding\n",
    "print(f\"First padded sequence: {padded_sequences[0]}\")\n",
    "print(f\"Shape of padded_sequences: {padded_sequences.shape}\")\n",
    "\n",
    "# Plot the distribution of sequence lengths\n",
    "plt.figure(figsize=(10, 6))\n",
    "plt.hist(sequence_lengths, bins=50, alpha=0.75, color='blue', edgecolor='black')\n",
    "plt.axvline(percentile_90, color='orange', linestyle='dashed', linewidth=2, label=f'90th Percentile: {percentile_90}')\n",
    "plt.axvline(percentile_95, color='red', linestyle='dashed', linewidth=2, label=f'95th Percentile: {percentile_95}')\n",
    "plt.xlabel('Sequence Length')\n",
    "plt.ylabel('Frequency')\n",
    "plt.title('Distribution of Sequence Lengths with Percentiles')\n",
    "plt.legend()\n",
    "plt.show()"
   ]
  },
  {
   "cell_type": "code",
   "execution_count": 22,
   "metadata": {},
   "outputs": [
    {
     "name": "stdout",
     "output_type": "stream",
     "text": [
      "Padded sequences shape: (72095, 818)\n",
      "[[  46  642  324 ...    0    0    0]\n",
      " [1742  211   58 ...    0    0    0]\n",
      " [5496  556  392 ...    0    0    0]\n",
      " [7692 9999  899 ...    0    0    0]\n",
      " [6981   71    1 ...    0    0    0]]\n"
     ]
    }
   ],
   "source": [
    "# 2. Padding Sequences\n",
    "\n",
    "# Determine the maximum sequence length based on your data (e.g., 95th percentile of sequence lengths)\n",
    "max_sequence_length = int(percentile_95)  # Adjust this value based on the output of the previous step\n",
    "\n",
    "# Pad the sequences to ensure they are all of the same length\n",
    "padded_sequences = pad_sequences(sequences, maxlen=max_sequence_length, padding='post', truncating='post')\n",
    "\n",
    "# Check the shape and the first few padded sequences to ensure everything looks correct\n",
    "print(f\"Padded sequences shape: {padded_sequences.shape}\")\n",
    "print(padded_sequences[:5])\n"
   ]
  },
  {
   "cell_type": "code",
   "execution_count": 23,
   "metadata": {},
   "outputs": [
    {
     "name": "stdout",
     "output_type": "stream",
     "text": [
      "Data has been serialised and saved in the '../data/processed' folder.\n"
     ]
    }
   ],
   "source": [
    "# Create the directory if it does not exist\n",
    "os.makedirs('../data/processed', exist_ok=True)\n",
    "\n",
    "# Save the padded sequences in HDF5 format\n",
    "with h5py.File('../data/processed/padded_sequences.h5', 'w') as f:\n",
    "    f.create_dataset('padded_sequences', data=padded_sequences)\n",
    "\n",
    "# Save the tokeniser separately as Pickle (HDF5 is not as straightforward for Python objects like the tokenizer)\n",
    "with open('../data/processed/tokenizer.pkl', 'wb') as f:\n",
    "    pickle.dump(tokenizer, f)\n",
    "\n",
    "# Save the processed DataFrame\n",
    "df.to_hdf('../data/processed/processed_data.h5', key='df', mode='w')\n",
    "\n",
    "print(\"Data has been serialised and saved in the '../data/processed' folder.\")\n"
   ]
  },
  {
   "cell_type": "code",
   "execution_count": null,
   "metadata": {},
   "outputs": [],
   "source": []
  }
 ],
 "metadata": {
  "kernelspec": {
   "display_name": "fake-news-predictor",
   "language": "python",
   "name": "python3"
  },
  "language_info": {
   "codemirror_mode": {
    "name": "ipython",
    "version": 3
   },
   "file_extension": ".py",
   "mimetype": "text/x-python",
   "name": "python",
   "nbconvert_exporter": "python",
   "pygments_lexer": "ipython3",
   "version": "3.10.14"
  }
 },
 "nbformat": 4,
 "nbformat_minor": 2
}
