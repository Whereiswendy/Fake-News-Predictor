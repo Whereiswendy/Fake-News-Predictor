{
 "cells": [
  {
   "cell_type": "markdown",
   "metadata": {},
   "source": [
    "This notebook follows the Exploratory Data Analysis (EDA) steps, where the data has been cleaned, analysed, and saved into an HDF5 file (eda_processed_data.h5). The next step in the process is vectorisation, where the textual data will be transformed into a numerical format suitable for machine learning models."
   ]
  },
  {
   "cell_type": "markdown",
   "metadata": {},
   "source": [
    "# Import Necessary Libraries"
   ]
  },
  {
   "cell_type": "code",
   "execution_count": 9,
   "metadata": {},
   "outputs": [],
   "source": [
    "import pandas as pd\n",
    "import numpy as np\n",
    "from sklearn.feature_extraction.text import TfidfVectorizer\n",
    "from sklearn.model_selection import train_test_split\n",
    "import h5py\n",
    "import os\n",
    "import pickle"
   ]
  },
  {
   "cell_type": "markdown",
   "metadata": {},
   "source": [
    "# Load the EDA Processed Data"
   ]
  },
  {
   "cell_type": "code",
   "execution_count": 10,
   "metadata": {},
   "outputs": [
    {
     "name": "stdout",
     "output_type": "stream",
     "text": [
      "<class 'pandas.core.frame.DataFrame'>\n",
      "Index: 72095 entries, 0 to 72133\n",
      "Data columns (total 7 columns):\n",
      " #   Column           Non-Null Count  Dtype  \n",
      "---  ------           --------------  -----  \n",
      " 0   title            72095 non-null  object \n",
      " 1   text             72095 non-null  object \n",
      " 2   label            72095 non-null  int64  \n",
      " 3   combined_text    72095 non-null  object \n",
      " 4   cleaned_text     72095 non-null  object \n",
      " 5   text_length      72095 non-null  int64  \n",
      " 6   log_text_length  72095 non-null  float64\n",
      "dtypes: float64(1), int64(2), object(4)\n",
      "memory usage: 4.4+ MB\n",
      "None\n"
     ]
    }
   ],
   "source": [
    "# Load the cleaned DataFrame from the EDA step\n",
    "df = pd.read_hdf('../data/processed/eda_processed_data.h5', key='df')\n",
    "\n",
    "# Display basic information about the DataFrame to ensure it's loaded correctly\n",
    "print(df.info())\n",
    "\n"
   ]
  },
  {
   "cell_type": "code",
   "execution_count": 11,
   "metadata": {},
   "outputs": [
    {
     "data": {
      "text/html": [
       "<div>\n",
       "<style scoped>\n",
       "    .dataframe tbody tr th:only-of-type {\n",
       "        vertical-align: middle;\n",
       "    }\n",
       "\n",
       "    .dataframe tbody tr th {\n",
       "        vertical-align: top;\n",
       "    }\n",
       "\n",
       "    .dataframe thead th {\n",
       "        text-align: right;\n",
       "    }\n",
       "</style>\n",
       "<table border=\"1\" class=\"dataframe\">\n",
       "  <thead>\n",
       "    <tr style=\"text-align: right;\">\n",
       "      <th></th>\n",
       "      <th>title</th>\n",
       "      <th>text</th>\n",
       "      <th>label</th>\n",
       "      <th>combined_text</th>\n",
       "      <th>cleaned_text</th>\n",
       "      <th>text_length</th>\n",
       "      <th>log_text_length</th>\n",
       "    </tr>\n",
       "  </thead>\n",
       "  <tbody>\n",
       "    <tr>\n",
       "      <th>0</th>\n",
       "      <td>LAW ENFORCEMENT ON HIGH ALERT Following Threat...</td>\n",
       "      <td>No comment is expected from Barack Obama Membe...</td>\n",
       "      <td>1</td>\n",
       "      <td>LAW ENFORCEMENT ON HIGH ALERT Following Threat...</td>\n",
       "      <td>law enforcement high alert following threats c...</td>\n",
       "      <td>3311</td>\n",
       "      <td>8.105308</td>\n",
       "    </tr>\n",
       "    <tr>\n",
       "      <th>1</th>\n",
       "      <td>No Title</td>\n",
       "      <td>Did they post their votes for Hillary already?</td>\n",
       "      <td>1</td>\n",
       "      <td>No Title Did they post their votes for Hillary...</td>\n",
       "      <td>title post vote hillary already</td>\n",
       "      <td>31</td>\n",
       "      <td>3.465736</td>\n",
       "    </tr>\n",
       "    <tr>\n",
       "      <th>2</th>\n",
       "      <td>UNBELIEVABLE! OBAMA’S ATTORNEY GENERAL SAYS MO...</td>\n",
       "      <td>Now, most of the demonstrators gathered last ...</td>\n",
       "      <td>1</td>\n",
       "      <td>UNBELIEVABLE! OBAMA’S ATTORNEY GENERAL SAYS MO...</td>\n",
       "      <td>unbelievable obamas attorney general says char...</td>\n",
       "      <td>277</td>\n",
       "      <td>5.627621</td>\n",
       "    </tr>\n",
       "    <tr>\n",
       "      <th>3</th>\n",
       "      <td>Bobby Jindal, raised Hindu, uses story of Chri...</td>\n",
       "      <td>A dozen politically active pastors came here f...</td>\n",
       "      <td>0</td>\n",
       "      <td>Bobby Jindal, raised Hindu, uses story of Chri...</td>\n",
       "      <td>bobby jindal raised hindu us story christian c...</td>\n",
       "      <td>5611</td>\n",
       "      <td>8.632662</td>\n",
       "    </tr>\n",
       "    <tr>\n",
       "      <th>4</th>\n",
       "      <td>SATAN 2: Russia unvelis an image of its terrif...</td>\n",
       "      <td>The RS-28 Sarmat missile, dubbed Satan 2, will...</td>\n",
       "      <td>1</td>\n",
       "      <td>SATAN 2: Russia unvelis an image of its terrif...</td>\n",
       "      <td>satan russia unvelis image terrifying new supe...</td>\n",
       "      <td>1388</td>\n",
       "      <td>7.236339</td>\n",
       "    </tr>\n",
       "  </tbody>\n",
       "</table>\n",
       "</div>"
      ],
      "text/plain": [
       "                                               title  \\\n",
       "0  LAW ENFORCEMENT ON HIGH ALERT Following Threat...   \n",
       "1                                           No Title   \n",
       "2  UNBELIEVABLE! OBAMA’S ATTORNEY GENERAL SAYS MO...   \n",
       "3  Bobby Jindal, raised Hindu, uses story of Chri...   \n",
       "4  SATAN 2: Russia unvelis an image of its terrif...   \n",
       "\n",
       "                                                text  label  \\\n",
       "0  No comment is expected from Barack Obama Membe...      1   \n",
       "1     Did they post their votes for Hillary already?      1   \n",
       "2   Now, most of the demonstrators gathered last ...      1   \n",
       "3  A dozen politically active pastors came here f...      0   \n",
       "4  The RS-28 Sarmat missile, dubbed Satan 2, will...      1   \n",
       "\n",
       "                                       combined_text  \\\n",
       "0  LAW ENFORCEMENT ON HIGH ALERT Following Threat...   \n",
       "1  No Title Did they post their votes for Hillary...   \n",
       "2  UNBELIEVABLE! OBAMA’S ATTORNEY GENERAL SAYS MO...   \n",
       "3  Bobby Jindal, raised Hindu, uses story of Chri...   \n",
       "4  SATAN 2: Russia unvelis an image of its terrif...   \n",
       "\n",
       "                                        cleaned_text  text_length  \\\n",
       "0  law enforcement high alert following threats c...         3311   \n",
       "1                    title post vote hillary already           31   \n",
       "2  unbelievable obamas attorney general says char...          277   \n",
       "3  bobby jindal raised hindu us story christian c...         5611   \n",
       "4  satan russia unvelis image terrifying new supe...         1388   \n",
       "\n",
       "   log_text_length  \n",
       "0         8.105308  \n",
       "1         3.465736  \n",
       "2         5.627621  \n",
       "3         8.632662  \n",
       "4         7.236339  "
      ]
     },
     "execution_count": 11,
     "metadata": {},
     "output_type": "execute_result"
    }
   ],
   "source": [
    "df.head()"
   ]
  },
  {
   "cell_type": "markdown",
   "metadata": {},
   "source": [
    "# Vectorisation Using TF-IDF"
   ]
  },
  {
   "cell_type": "code",
   "execution_count": 12,
   "metadata": {},
   "outputs": [
    {
     "name": "stdout",
     "output_type": "stream",
     "text": [
      "Number of words covering 95% of the dataset: 24016\n"
     ]
    }
   ],
   "source": [
    "# Load the tokeniser\n",
    "with open('../data/processed/tokenizer.pkl', 'rb') as f:\n",
    "    tokenizer = pickle.load(f)\n",
    "\n",
    "# Get the word counts (how many times each word appears)\n",
    "word_counts = tokenizer.word_counts\n",
    "\n",
    "# Sort words by frequency\n",
    "sorted_word_counts = sorted(word_counts.items(), key=lambda x: x[1], reverse=True)\n",
    "\n",
    "# Calculate the cumulative coverage\n",
    "cumulative_coverage = []\n",
    "cumulative_count = 0\n",
    "total_word_count = sum(word_counts.values())\n",
    "\n",
    "for word, count in sorted_word_counts:\n",
    "    cumulative_count += count\n",
    "    cumulative_coverage.append(cumulative_count / total_word_count)\n",
    "\n",
    "# Calculate num_words for 95% coverage\n",
    "coverage_95 = next(i for i, coverage in enumerate(cumulative_coverage) if coverage >= 0.95) + 1\n",
    "\n",
    "print(f\"Number of words covering 95% of the dataset: {coverage_95}\")\n"
   ]
  },
  {
   "cell_type": "code",
   "execution_count": 13,
   "metadata": {},
   "outputs": [
    {
     "name": "stdout",
     "output_type": "stream",
     "text": [
      "TF-IDF matrix shape: (72095, 24016)\n"
     ]
    }
   ],
   "source": [
    "# Initialise the TF-IDF vectoriser\n",
    "vectorizer = TfidfVectorizer(max_features=coverage_95)\n",
    "\n",
    "# Fit the vectoriser on the cleaned text data and transform the text into numerical vectors\n",
    "X = vectorizer.fit_transform(df['cleaned_text'])\n",
    "\n",
    "# Display the shape of the resulting matrix\n",
    "print(f\"TF-IDF matrix shape: {X.shape}\")\n"
   ]
  },
  {
   "cell_type": "code",
   "execution_count": 14,
   "metadata": {},
   "outputs": [
    {
     "name": "stdout",
     "output_type": "stream",
     "text": [
      "<Compressed Sparse Row sparse matrix of dtype 'float64'\n",
      "\twith 14011401 stored elements and shape (72095, 24016)>\n",
      "  Coords\tValues\n",
      "  (0, 12161)\t0.019370036721062953\n",
      "  (0, 7083)\t0.02949693199829052\n",
      "  (0, 9936)\t0.02406240763969145\n",
      "  (0, 590)\t0.040712493800785995\n",
      "  (0, 8337)\t0.02450899386999259\n",
      "  (0, 21589)\t0.053509902853638734\n",
      "  (0, 4669)\t0.047300273891901674\n",
      "  (0, 23506)\t0.05312875833462724\n",
      "  (0, 2965)\t0.03751438571910205\n",
      "  (0, 2276)\t0.10475617682262549\n",
      "  (0, 21420)\t0.04725778319544691\n",
      "  (0, 22994)\t0.03835636737844158\n",
      "  (0, 4105)\t0.02144314913991036\n",
      "  (0, 7572)\t0.02535852767633391\n",
      "  (0, 1812)\t0.024378653458474744\n",
      "  (0, 14712)\t0.019096323007148988\n",
      "  (0, 13365)\t0.04215941540411928\n",
      "  (0, 13967)\t0.08386012954008269\n",
      "  (0, 3033)\t0.056420258884790485\n",
      "  (0, 12762)\t0.11368256675782971\n",
      "  (0, 9593)\t0.04299750377866516\n",
      "  (0, 23500)\t0.1634625276400689\n",
      "  (0, 15699)\t0.11814999116244773\n",
      "  (0, 4662)\t0.15308411829605043\n",
      "  (0, 7038)\t0.03839304903211266\n",
      "  :\t:\n",
      "  (72094, 6675)\t0.04096088366767763\n",
      "  (72094, 2109)\t0.03398745351104807\n",
      "  (72094, 18708)\t0.03308367651492392\n",
      "  (72094, 6312)\t0.054988012811899765\n",
      "  (72094, 5149)\t0.07909171214750765\n",
      "  (72094, 6526)\t0.04585716851174335\n",
      "  (72094, 6667)\t0.04638808062869085\n",
      "  (72094, 1044)\t0.0403636495743317\n",
      "  (72094, 15495)\t0.03976798176194776\n",
      "  (72094, 7062)\t0.08254699881869536\n",
      "  (72094, 7063)\t0.11185417085214656\n",
      "  (72094, 22313)\t0.14078688618061075\n",
      "  (72094, 16017)\t0.046062919525147274\n",
      "  (72094, 18024)\t0.057836804437850046\n",
      "  (72094, 21525)\t0.03587517560583353\n",
      "  (72094, 12538)\t0.11235986325733235\n",
      "  (72094, 21173)\t0.04646501071692235\n",
      "  (72094, 12825)\t0.049018921541700455\n",
      "  (72094, 8615)\t0.05414669235521997\n",
      "  (72094, 19413)\t0.04824461103680875\n",
      "  (72094, 19272)\t0.06573717715684921\n",
      "  (72094, 19886)\t0.1252899038497601\n",
      "  (72094, 8878)\t0.06264495192488005\n",
      "  (72094, 20628)\t0.05517486684447566\n",
      "  (72094, 2299)\t0.1894062917306835\n"
     ]
    }
   ],
   "source": [
    "print(X)"
   ]
  },
  {
   "cell_type": "code",
   "execution_count": 18,
   "metadata": {},
   "outputs": [
    {
     "data": {
      "text/html": [
       "<div>\n",
       "<style scoped>\n",
       "    .dataframe tbody tr th:only-of-type {\n",
       "        vertical-align: middle;\n",
       "    }\n",
       "\n",
       "    .dataframe tbody tr th {\n",
       "        vertical-align: top;\n",
       "    }\n",
       "\n",
       "    .dataframe thead th {\n",
       "        text-align: right;\n",
       "    }\n",
       "</style>\n",
       "<table border=\"1\" class=\"dataframe\">\n",
       "  <thead>\n",
       "    <tr style=\"text-align: right;\">\n",
       "      <th></th>\n",
       "      <th>title</th>\n",
       "      <th>text</th>\n",
       "      <th>label</th>\n",
       "      <th>combined_text</th>\n",
       "      <th>cleaned_text</th>\n",
       "      <th>text_length</th>\n",
       "      <th>log_text_length</th>\n",
       "    </tr>\n",
       "  </thead>\n",
       "  <tbody>\n",
       "    <tr>\n",
       "      <th>0</th>\n",
       "      <td>LAW ENFORCEMENT ON HIGH ALERT Following Threat...</td>\n",
       "      <td>No comment is expected from Barack Obama Membe...</td>\n",
       "      <td>1</td>\n",
       "      <td>LAW ENFORCEMENT ON HIGH ALERT Following Threat...</td>\n",
       "      <td>law enforcement high alert following threats c...</td>\n",
       "      <td>3311</td>\n",
       "      <td>8.105308</td>\n",
       "    </tr>\n",
       "    <tr>\n",
       "      <th>1</th>\n",
       "      <td>No Title</td>\n",
       "      <td>Did they post their votes for Hillary already?</td>\n",
       "      <td>1</td>\n",
       "      <td>No Title Did they post their votes for Hillary...</td>\n",
       "      <td>title post vote hillary already</td>\n",
       "      <td>31</td>\n",
       "      <td>3.465736</td>\n",
       "    </tr>\n",
       "    <tr>\n",
       "      <th>2</th>\n",
       "      <td>UNBELIEVABLE! OBAMA’S ATTORNEY GENERAL SAYS MO...</td>\n",
       "      <td>Now, most of the demonstrators gathered last ...</td>\n",
       "      <td>1</td>\n",
       "      <td>UNBELIEVABLE! OBAMA’S ATTORNEY GENERAL SAYS MO...</td>\n",
       "      <td>unbelievable obamas attorney general says char...</td>\n",
       "      <td>277</td>\n",
       "      <td>5.627621</td>\n",
       "    </tr>\n",
       "    <tr>\n",
       "      <th>3</th>\n",
       "      <td>Bobby Jindal, raised Hindu, uses story of Chri...</td>\n",
       "      <td>A dozen politically active pastors came here f...</td>\n",
       "      <td>0</td>\n",
       "      <td>Bobby Jindal, raised Hindu, uses story of Chri...</td>\n",
       "      <td>bobby jindal raised hindu us story christian c...</td>\n",
       "      <td>5611</td>\n",
       "      <td>8.632662</td>\n",
       "    </tr>\n",
       "    <tr>\n",
       "      <th>4</th>\n",
       "      <td>SATAN 2: Russia unvelis an image of its terrif...</td>\n",
       "      <td>The RS-28 Sarmat missile, dubbed Satan 2, will...</td>\n",
       "      <td>1</td>\n",
       "      <td>SATAN 2: Russia unvelis an image of its terrif...</td>\n",
       "      <td>satan russia unvelis image terrifying new supe...</td>\n",
       "      <td>1388</td>\n",
       "      <td>7.236339</td>\n",
       "    </tr>\n",
       "  </tbody>\n",
       "</table>\n",
       "</div>"
      ],
      "text/plain": [
       "                                               title  \\\n",
       "0  LAW ENFORCEMENT ON HIGH ALERT Following Threat...   \n",
       "1                                           No Title   \n",
       "2  UNBELIEVABLE! OBAMA’S ATTORNEY GENERAL SAYS MO...   \n",
       "3  Bobby Jindal, raised Hindu, uses story of Chri...   \n",
       "4  SATAN 2: Russia unvelis an image of its terrif...   \n",
       "\n",
       "                                                text  label  \\\n",
       "0  No comment is expected from Barack Obama Membe...      1   \n",
       "1     Did they post their votes for Hillary already?      1   \n",
       "2   Now, most of the demonstrators gathered last ...      1   \n",
       "3  A dozen politically active pastors came here f...      0   \n",
       "4  The RS-28 Sarmat missile, dubbed Satan 2, will...      1   \n",
       "\n",
       "                                       combined_text  \\\n",
       "0  LAW ENFORCEMENT ON HIGH ALERT Following Threat...   \n",
       "1  No Title Did they post their votes for Hillary...   \n",
       "2  UNBELIEVABLE! OBAMA’S ATTORNEY GENERAL SAYS MO...   \n",
       "3  Bobby Jindal, raised Hindu, uses story of Chri...   \n",
       "4  SATAN 2: Russia unvelis an image of its terrif...   \n",
       "\n",
       "                                        cleaned_text  text_length  \\\n",
       "0  law enforcement high alert following threats c...         3311   \n",
       "1                    title post vote hillary already           31   \n",
       "2  unbelievable obamas attorney general says char...          277   \n",
       "3  bobby jindal raised hindu us story christian c...         5611   \n",
       "4  satan russia unvelis image terrifying new supe...         1388   \n",
       "\n",
       "   log_text_length  \n",
       "0         8.105308  \n",
       "1         3.465736  \n",
       "2         5.627621  \n",
       "3         8.632662  \n",
       "4         7.236339  "
      ]
     },
     "execution_count": 18,
     "metadata": {},
     "output_type": "execute_result"
    }
   ],
   "source": [
    "df.head()"
   ]
  },
  {
   "cell_type": "code",
   "execution_count": 17,
   "metadata": {},
   "outputs": [
    {
     "name": "stdout",
     "output_type": "stream",
     "text": [
      "Vectorised data has been saved to '../data/vectorised/'.\n"
     ]
    }
   ],
   "source": [
    "# Convert the TF-IDF matrix to a dense format\n",
    "X_dense = X.toarray()\n",
    "\n",
    "# Create the directory if it does not exist\n",
    "os.makedirs('../data/vectorised', exist_ok=True)\n",
    "\n",
    "# Save the TF-IDF matrix in HDF5 format\n",
    "with h5py.File('../data/vectorised/tfidf_vectorised_data.h5', 'w') as f:\n",
    "    f.create_dataset('X_tfidf', data=X_dense)\n",
    "\n",
    "# Save the corresponding DataFrame with other features and labels\n",
    "df.to_hdf('../data/vectorised/vectorised_data_df.h5', key='df', mode='w')\n",
    "\n",
    "print(\"Vectorised data has been saved to '../data/vectorised/'.\")"
   ]
  },
  {
   "cell_type": "code",
   "execution_count": null,
   "metadata": {},
   "outputs": [],
   "source": []
  },
  {
   "cell_type": "code",
   "execution_count": null,
   "metadata": {},
   "outputs": [],
   "source": []
  }
 ],
 "metadata": {
  "kernelspec": {
   "display_name": "fake-news-predictor",
   "language": "python",
   "name": "python3"
  },
  "language_info": {
   "codemirror_mode": {
    "name": "ipython",
    "version": 3
   },
   "file_extension": ".py",
   "mimetype": "text/x-python",
   "name": "python",
   "nbconvert_exporter": "python",
   "pygments_lexer": "ipython3",
   "version": "3.10.14"
  }
 },
 "nbformat": 4,
 "nbformat_minor": 2
}
