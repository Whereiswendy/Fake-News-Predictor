{
  "cells": [
    {
      "cell_type": "markdown",
      "metadata": {
        "id": "XagUFaMRUWRO"
      },
      "source": [
        "Fitting a k-nearest neighbours (KNN) machine learning model involves once the data has been preprocessed."
      ]
    },
    {
      "cell_type": "code",
      "execution_count": null,
      "metadata": {
        "id": "QhlJi9B-UbYr"
      },
      "outputs": [],
      "source": [
        "# Import necessary libraries\n",
        "import pandas as pd\n",
        "from sklearn.model_selection import train_test_split, cross_val_score\n",
        "from sklearn.neighbors import KNeighborsClassifier\n",
        "from sklearn.metrics import accuracy_score, classification_report\n",
        "import h5py\n",
        "import joblib\n",
        "import json"
      ]
    },
    {
      "cell_type": "code",
      "execution_count": null,
      "metadata": {
        "id": "sFJ5Eh_BVBqw"
      },
      "outputs": [],
      "source": [
        "# Load the training and testing datasets\n",
        "with h5py.File('../data/splits/train_test_split.h5', 'r') as f:\n",
        "    X_train = f['X_train'][:]\n",
        "    X_test = f['X_test'][:]\n",
        "    y_train = f['y_train'][:]\n",
        "    y_test = f['y_test'][:]\n",
        "\n",
        "print(\"Training and testing sets loaded successfully.\")"
      ]
    },
    {
      "cell_type": "code",
      "execution_count": null,
      "metadata": {
        "id": "PAll4gSVXZm_"
      },
      "outputs": [],
      "source": [
        "# Model KNN, classification\n",
        "model = KNeighborsClassifier()"
      ]
    },
    {
      "cell_type": "code",
      "execution_count": null,
      "metadata": {
        "id": "UqC993ttXilh"
      },
      "outputs": [],
      "source": [
        "# Setting hyperparameters\n",
        "params = {\n",
        "    'n_neighbors': 5,  # Number of neighbors to use by default for kneighbors queries\n",
        "    'weights': 'uniform',  # Uniform weights, all points in each neighborhood are weighted equally\n",
        "    'algorithm': 'auto',  # Algorithm used to compute the nearest neighbors\n",
        "    'p': 2  # Power parameter for the Minkowski metric\n",
        "}\n",
        "\n",
        "model.set_params(**params)"
      ]
    },
    {
      "cell_type": "code",
      "execution_count": null,
      "metadata": {
        "id": "Yy8zjP9bYUv3"
      },
      "outputs": [],
      "source": [
        "# Train the Model\n",
        "model.fit(X_train, y_train)"
      ]
    },
    {
      "cell_type": "code",
      "execution_count": null,
      "metadata": {
        "id": "D2JOpukjYYKP"
      },
      "outputs": [],
      "source": [
        "# Evaluate the Model\n",
        "y_pred = model.predict(X_test)"
      ]
    },
    {
      "cell_type": "code",
      "execution_count": null,
      "metadata": {
        "id": "OwJ11KDvYcvl"
      },
      "outputs": [],
      "source": [
        "# For classification\n",
        "accuracy = accuracy_score(y_test, y_pred)\n",
        "classification_report_dict = classification_report(y_test, y_pred, output_dict=True)\n",
        "print(\"Accuracy:\", accuracy)\n",
        "print(\"Classification Report:\\n\", classification_report(y_test, y_pred))"
      ]
    },
    {
      "cell_type": "code",
      "execution_count": null,
      "metadata": {
        "id": "qOmOyKNoYgLf"
      },
      "outputs": [],
      "source": [
        "# Save the KNN model to a .pkl file using joblib\n",
        "model_save_path = '../models/knn_model.pkl'\n",
        "joblib.dump(model, model_save_path)\n",
        "print(f\"KNN model saved to {model_save_path}.\")"
      ]
    },
    {
      "cell_type": "code",
      "execution_count": null,
      "metadata": {},
      "outputs": [],
      "source": [
        "# Create a dictionary to store the metrics\n",
        "metrics = {\n",
        "    \"accuracy\": accuracy,\n",
        "    \"classification_report\": classification_report_dict  # Already a dictionary\n",
        "}\n",
        "\n",
        "# Specify the path where the metrics will be saved\n",
        "metrics_save_path = '../models/knn_metrics.json'\n",
        "\n",
        "# Save the metrics dictionary to a JSON file\n",
        "with open(metrics_save_path, 'w') as f:\n",
        "    json.dump(metrics, f)\n",
        "\n",
        "print(f\"Model performance metrics saved to {metrics_save_path}.\")"
      ]
    },
    {
      "cell_type": "code",
      "execution_count": null,
      "metadata": {},
      "outputs": [],
      "source": []
    }
  ],
  "metadata": {
    "colab": {
      "provenance": []
    },
    "kernelspec": {
      "display_name": "Python 3",
      "name": "python3"
    },
    "language_info": {
      "codemirror_mode": {
        "name": "ipython",
        "version": 3
      },
      "file_extension": ".py",
      "mimetype": "text/x-python",
      "name": "python",
      "nbconvert_exporter": "python",
      "pygments_lexer": "ipython3",
      "version": "3.10.14"
    }
  },
  "nbformat": 4,
  "nbformat_minor": 0
}
