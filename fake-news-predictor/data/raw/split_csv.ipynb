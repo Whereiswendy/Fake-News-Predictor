{
 "cells": [
  {
   "cell_type": "code",
   "execution_count": 4,
   "metadata": {},
   "outputs": [
    {
     "name": "stdout",
     "output_type": "stream",
     "text": [
      "File opened successfully!\n"
     ]
    }
   ],
   "source": [
    "file_path = r'..\\..\\..\\..\\Project-FakeNews\\WELFake_Dataset.csv'\n",
    "\n",
    "try:\n",
    "    with open(file_path, 'r', encoding='utf-8') as file:\n",
    "        print(\"File opened successfully!\")\n",
    "except FileNotFoundError:\n",
    "    print(\"File not found. Please check the path.\")\n"
   ]
  },
  {
   "cell_type": "code",
   "execution_count": 2,
   "metadata": {},
   "outputs": [],
   "source": [
    "import os\n",
    "\n",
    "def split_csv_by_size(file_path, chunk_size_mb):\n",
    "    chunk_size_bytes = chunk_size_mb * 1024 * 1024  # Convert MB to Bytes\n",
    "    base_name = os.path.splitext(file_path)[0]\n",
    "    \n",
    "    with open(file_path, 'r', encoding='utf-8') as file:\n",
    "        header = file.readline()  # Read the header line\n",
    "        current_chunk = 1\n",
    "        current_chunk_size = 0\n",
    "        chunk_file = None\n",
    "        \n",
    "        for line in file:\n",
    "            if chunk_file is None or current_chunk_size + len(line.encode('utf-8')) > chunk_size_bytes:\n",
    "                # Close the current chunk file if open\n",
    "                if chunk_file:\n",
    "                    chunk_file.close()\n",
    "                \n",
    "                # Create a new chunk file\n",
    "                chunk_file_name = f\"{base_name}_part{current_chunk}.csv\"\n",
    "                chunk_file = open(chunk_file_name, 'w', encoding='utf-8')\n",
    "                chunk_file.write(header)  # Write the header to the new file\n",
    "                current_chunk += 1\n",
    "                current_chunk_size = 0  # Reset the current chunk size\n",
    "            \n",
    "            # Write the line to the current chunk file\n",
    "            chunk_file.write(line)\n",
    "            current_chunk_size += len(line.encode('utf-8'))  # Update the current chunk size\n",
    "\n",
    "        # Close the last chunk file\n",
    "        if chunk_file:\n",
    "            chunk_file.close()\n",
    "\n",
    "# Example usage\n",
    "# file_path = 'Resources/WELFake_Dataset.csv'\n",
    "split_csv_by_size(file_path, 100)  # Splitting into 100 MB chunks\n"
   ]
  },
  {
   "cell_type": "code",
   "execution_count": null,
   "metadata": {},
   "outputs": [],
   "source": []
  }
 ],
 "metadata": {
  "kernelspec": {
   "display_name": "dev3.10",
   "language": "python",
   "name": "python3"
  },
  "language_info": {
   "codemirror_mode": {
    "name": "ipython",
    "version": 3
   },
   "file_extension": ".py",
   "mimetype": "text/x-python",
   "name": "python",
   "nbconvert_exporter": "python",
   "pygments_lexer": "ipython3",
   "version": "3.10.14"
  }
 },
 "nbformat": 4,
 "nbformat_minor": 2
}
